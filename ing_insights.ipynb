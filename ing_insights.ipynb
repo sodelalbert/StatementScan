{
 "cells": [
  {
   "cell_type": "markdown",
   "metadata": {},
   "source": [
    "# ING Insights\n",
    "\n",
    "\n",
    "Notebook used to categorize and automatically analyse transations data from ING Bank Account. This account is aggregation transaction information from all accounts in ING Bank as well as Millennium.\n",
    "\n",
    "Analysis should be used to aggregate per month infomrations infomrations about spending, mainly from accounts `Wspólne`, `Osobiste`, `Millennium`.\n",
    "\n",
    "\n",
    "**TODO**\n",
    "- [ ] Export to Excel\n",
    "- [ ] Different data analysis options\n",
    "- [ ] Make mark in Excel file which rows were analysed by the tool"
   ]
  },
  {
   "cell_type": "markdown",
   "metadata": {},
   "source": [
    "## 01 - Importing data\n",
    "\n",
    "Import data from ING Bank history export. Class used to import the data `TransactionDataLoader` consisting fetching mechanism with data sanitization finctionalities."
   ]
  },
  {
   "cell_type": "code",
   "metadata": {
    "ExecuteTime": {
     "end_time": "2024-12-20T18:21:57.989392Z",
     "start_time": "2024-12-20T18:21:57.948442Z"
    }
   },
   "source": [
    "from pathlib import Path\n",
    "\n",
    "from data_loader import *\n",
    "\n",
    "csv_import_1 = Path(\"data/Lista_transakcji_nr_0202366310_201224.csv\")\n",
    "csv_import_2 = Path(\"data/20241220_lista_transkcji_ing_mill_90.csv\")\n",
    "csv_import_3 = Path(\"data/Lista_transakcji_nr_0202026071_161224_ING_MILL.csv\")\n",
    "\n",
    "df = TransactionDataLoader(csv_import_1).get_data()\n",
    "print(f\"Successfully imported dataframe with size {df.shape}\\n\\n\")\n",
    "\n"
   ],
   "outputs": [
    {
     "name": "stdout",
     "output_type": "stream",
     "text": [
      "Successfully imported dataframe with size (240, 21)\n",
      "\n",
      "\n"
     ]
    }
   ],
   "execution_count": 187
  },
  {
   "cell_type": "markdown",
   "metadata": {},
   "source": [
    "## 02 - Data filtering and sanitization\n",
    "\n",
    "\n",
    "Filter only usefully columns for further data analysis. This will be the base for further analysis of data.\n"
   ]
  },
  {
   "cell_type": "code",
   "metadata": {
    "ExecuteTime": {
     "end_time": "2024-12-20T18:21:57.999561Z",
     "start_time": "2024-12-20T18:21:57.996083Z"
    }
   },
   "source": [
    "selected_columns = ['Data transakcji', 'Dane kontrahenta', 'Tytuł', 'Kwota transakcji (waluta rachunku)', 'Bank']\n",
    "f_df = df[selected_columns]\n"
   ],
   "outputs": [],
   "execution_count": 188
  },
  {
   "cell_type": "markdown",
   "metadata": {},
   "source": [
    "## 03 - Categorization\n",
    "\n",
    "\n",
    "Define categories for analysis and fill the data based on filter definition applied to `Dane kontrachenta` in `f_df` data frame.\n"
   ]
  },
  {
   "metadata": {
    "ExecuteTime": {
     "end_time": "2024-12-20T18:21:58.068761Z",
     "start_time": "2024-12-20T18:21:58.063874Z"
    }
   },
   "cell_type": "code",
   "source": [
    "\"\"\"\n",
    "Input data for analysis: f_df\n",
    "\"\"\"\n",
    "\n",
    "#ExpenceCategiries instance containing objects of expense category.\n",
    "expense_category_list = [\n",
    "    ExpenseCategory(name=\"Zakupy spożywcze\", filter=\"LIDL|BIED|ZAB|PIEKARNIA|Zygula|Piekarstwo|CARREFOUR|FAMILIJNA|CENTRUM WINA\"),\n",
    "    ExpenseCategory(name=\"Kosmetyki\", filter=\"ROSSMANN|notino\"),\n",
    "    ExpenseCategory(name=\"Restauracje\", filter=\"PIAZZA|COCKPEAT|CHLEBOTEKA|WHISKEYINTHEJAR|TUTTI|NEWPORT CAFE|SHRIMP HOUSE\"),\n",
    "    ExpenseCategory(name=\"Zdrowie\", filter=\"APTEKA|LUX MED|SUPER-PHARM\"),\n",
    "    ExpenseCategory(name=\"Transport\", filter=\"SHELL|Myjnia|ORLEN|WROCLAVIA PARKING|Taxi|APCOA|Autopay\")\n",
    "]\n",
    "\n",
    "# Filter f_df dataframe and fill each ExpenseCategory data class attributes.\n",
    "for i in range(len(expense_category_list)):\n",
    "    expense_category_list[i].data_frame = f_df[\n",
    "        f_df[\"Dane kontrahenta\"].str.contains(expense_category_list[i].filter) == True]\n",
    "\n",
    "    expense_category_list[i].sum = abs(\n",
    "        round(float(expense_category_list[i].data_frame[\"Kwota transakcji (waluta rachunku)\"].sum()), 2))"
   ],
   "outputs": [],
   "execution_count": 189
  },
  {
   "metadata": {},
   "cell_type": "markdown",
   "source": "Transform `expense_category_list` to data frame."
  },
  {
   "metadata": {
    "ExecuteTime": {
     "end_time": "2024-12-20T18:21:58.074966Z",
     "start_time": "2024-12-20T18:21:58.071879Z"
    }
   },
   "cell_type": "code",
   "source": [
    "from dataclasses import asdict\n",
    "\n",
    "expense_dicts = [asdict(expense) for expense in expense_category_list]\n",
    "temp_df = pd.DataFrame(expense_dicts)\n"
   ],
   "outputs": [],
   "execution_count": 190
  },
  {
   "metadata": {},
   "cell_type": "markdown",
   "source": "Plot"
  },
  {
   "metadata": {
    "ExecuteTime": {
     "end_time": "2024-12-20T18:21:58.176172Z",
     "start_time": "2024-12-20T18:21:58.106125Z"
    }
   },
   "cell_type": "code",
   "source": [
    "import matplotlib.pyplot as plt\n",
    "\n",
    "# Plot the bar chart\n",
    "bars = plt.bar(temp_df['name'], temp_df['sum'])\n",
    "\n",
    "plt.title('Analiza transakcji w Banku ING')\n",
    "\n",
    "# Show the plot\n",
    "plt.show()\n",
    "\n",
    "temp_df[['name', 'sum']]"
   ],
   "outputs": [
    {
     "data": {
      "text/plain": [
       "<Figure size 640x480 with 1 Axes>"
      ],
      "image/png": "[encoded data removed]"
     },
     "metadata": {},
     "output_type": "display_data"
    },
    {
     "data": {
      "text/plain": [
       "               name      sum\n",
       "0  Zakupy spożywcze  3357.55\n",
       "1         Kosmetyki   204.56\n",
       "2       Restauracje   582.40\n",
       "3           Zdrowie   663.77\n",
       "4         Transport  1163.79"
      ],
      "text/html": [
       "<div>\n",
       "<style scoped>\n",
       "    .dataframe tbody tr th:only-of-type {\n",
       "        vertical-align: middle;\n",
       "    }\n",
       "\n",
       "    .dataframe tbody tr th {\n",
       "        vertical-align: top;\n",
       "    }\n",
       "\n",
       "    .dataframe thead th {\n",
       "        text-align: right;\n",
       "    }\n",
       "</style>\n",
       "<table border=\"1\" class=\"dataframe\">\n",
       "  <thead>\n",
       "    <tr style=\"text-align: right;\">\n",
       "      <th></th>\n",
       "      <th>name</th>\n",
       "      <th>sum</th>\n",
       "    </tr>\n",
       "  </thead>\n",
       "  <tbody>\n",
       "    <tr>\n",
       "      <th>0</th>\n",
       "      <td>Zakupy spożywcze</td>\n",
       "      <td>3357.55</td>\n",
       "    </tr>\n",
       "    <tr>\n",
       "      <th>1</th>\n",
       "      <td>Kosmetyki</td>\n",
       "      <td>204.56</td>\n",
       "    </tr>\n",
       "    <tr>\n",
       "      <th>2</th>\n",
       "      <td>Restauracje</td>\n",
       "      <td>582.40</td>\n",
       "    </tr>\n",
       "    <tr>\n",
       "      <th>3</th>\n",
       "      <td>Zdrowie</td>\n",
       "      <td>663.77</td>\n",
       "    </tr>\n",
       "    <tr>\n",
       "      <th>4</th>\n",
       "      <td>Transport</td>\n",
       "      <td>1163.79</td>\n",
       "    </tr>\n",
       "  </tbody>\n",
       "</table>\n",
       "</div>"
      ]
     },
     "execution_count": 191,
     "metadata": {},
     "output_type": "execute_result"
    }
   ],
   "execution_count": 191
  },
  {
   "metadata": {
    "ExecuteTime": {
     "end_time": "2024-12-20T18:21:58.285685Z",
     "start_time": "2024-12-20T18:21:58.277540Z"
    }
   },
   "cell_type": "code",
   "source": [
    "# Verification of category mapping\n",
    "\n",
    "print(i for i in range(len(expense_category_list)))\n",
    "\n",
    "expense_category_list[4].data_frame\n"
   ],
   "outputs": [
    {
     "name": "stdout",
     "output_type": "stream",
     "text": [
      "<generator object <genexpr> at 0x124c5cf40>\n"
     ]
    },
    {
     "data": {
      "text/plain": [
       "    Data transakcji                               Dane kontrahenta  \\\n",
       "3        2024-11-30           Myjnia NIKITA Sz. Klacz  Wroclaw  P    \n",
       "4        2024-11-30           Myjnia NIKITA Sz. Klacz  Wroclaw  P    \n",
       "39       2024-11-25   WROCLAVIA PARKING  WROCLAW POL 2024 -11-22     \n",
       "47       2024-11-25                        SHELL 09  Wroclaw  POL    \n",
       "53       2024-11-24            ORLEN STACJA NR 464  WARSZAWA  POL    \n",
       "54       2024-11-24            ORLEN STACJA NR 464  WARSZAWA  POL    \n",
       "62       2024-11-23                  Taxi Agnieszka  Wroclaw  POL    \n",
       "84       2024-11-19               WROCLAVIA PARKING  WROCLAW  POL    \n",
       "121      2024-11-14                ORLEN STACJA NR 459  LANY  POL    \n",
       "143      2024-11-12        SHELL 01  Ruda Slaska POL 2024-11-1 0     \n",
       "153      2024-11-12                  APCOA PARKEON  WARSZAWA  POL    \n",
       "154      2024-11-12               WROCLAVIA PARKING  WROCLAW  POL    \n",
       "161      2024-11-10               Autopay Mobility  Warszawa  POL    \n",
       "162      2024-11-10               Autopay Mobility  Warszawa  POL    \n",
       "180      2024-11-08               Autopay Mobility  Warszawa  POL    \n",
       "181      2024-11-08               Autopay Mobility  Warszawa  POL    \n",
       "223      2024-11-03            ORLEN STACJA NR 427  SMARDZOW  POL    \n",
       "\n",
       "                                              Tytuł  \\\n",
       "3     Płatność kartą 30.11.2024 Nr karty 4246xx0146   \n",
       "4     Płatność kartą 30.11.2024 Nr karty 4246xx0146   \n",
       "39     WROCLAVIA PARKING  WROCLAW POL 2024 -11-22     \n",
       "47    Płatność kartą 25.11.2024 Nr karty 4246xx0146   \n",
       "53    Płatność kartą 24.11.2024 Nr karty 4246xx0146   \n",
       "54    Płatność kartą 24.11.2024 Nr karty 4246xx0146   \n",
       "62    Płatność kartą 23.11.2024 Nr karty 4246xx0146   \n",
       "84    Płatność kartą 19.11.2024 Nr karty 4246xx3990   \n",
       "121   Płatność kartą 14.11.2024 Nr karty 4246xx0146   \n",
       "143         SHELL 01  Ruda Slaska POL 2024-11-1 0     \n",
       "153   Płatność kartą 12.11.2024 Nr karty 4246xx0146   \n",
       "154   Płatność kartą 12.11.2024 Nr karty 4246xx0146   \n",
       "161   Płatność kartą 10.11.2024 Nr karty 4246xx3990   \n",
       "162   Płatność kartą 10.11.2024 Nr karty 4246xx3990   \n",
       "180   Płatność kartą 08.11.2024 Nr karty 4246xx3990   \n",
       "181   Płatność kartą 08.11.2024 Nr karty 4246xx3990   \n",
       "223   Płatność kartą 03.11.2024 Nr karty 4246xx0146   \n",
       "\n",
       "     Kwota transakcji (waluta rachunku)                  Bank  \n",
       "3                                 -6.00  ING Bank Śląski S.A.  \n",
       "4                                 -6.00  ING Bank Śląski S.A.  \n",
       "39                               -10.00   Bank Millennium S.A  \n",
       "47                              -195.07  ING Bank Śląski S.A.  \n",
       "53                               -15.88  ING Bank Śląski S.A.  \n",
       "54                              -270.22  ING Bank Śląski S.A.  \n",
       "62                               -50.00  ING Bank Śląski S.A.  \n",
       "84                               -15.00  ING Bank Śląski S.A.  \n",
       "121                             -317.67  ING Bank Śląski S.A.  \n",
       "143                              -33.97   Bank Millennium S.A  \n",
       "153                              -21.00  ING Bank Śląski S.A.  \n",
       "154                               -5.00  ING Bank Śląski S.A.  \n",
       "161                              -16.00  ING Bank Śląski S.A.  \n",
       "162                              -16.00  ING Bank Śląski S.A.  \n",
       "180                              -16.00  ING Bank Śląski S.A.  \n",
       "181                              -16.00  ING Bank Śląski S.A.  \n",
       "223                             -153.98  ING Bank Śląski S.A.  "
      ],
      "text/html": [
       "<div>\n",
       "<style scoped>\n",
       "    .dataframe tbody tr th:only-of-type {\n",
       "        vertical-align: middle;\n",
       "    }\n",
       "\n",
       "    .dataframe tbody tr th {\n",
       "        vertical-align: top;\n",
       "    }\n",
       "\n",
       "    .dataframe thead th {\n",
       "        text-align: right;\n",
       "    }\n",
       "</style>\n",
       "<table border=\"1\" class=\"dataframe\">\n",
       "  <thead>\n",
       "    <tr style=\"text-align: right;\">\n",
       "      <th></th>\n",
       "      <th>Data transakcji</th>\n",
       "      <th>Dane kontrahenta</th>\n",
       "      <th>Tytuł</th>\n",
       "      <th>Kwota transakcji (waluta rachunku)</th>\n",
       "      <th>Bank</th>\n",
       "    </tr>\n",
       "  </thead>\n",
       "  <tbody>\n",
       "    <tr>\n",
       "      <th>3</th>\n",
       "      <td>2024-11-30</td>\n",
       "      <td>Myjnia NIKITA Sz. Klacz  Wroclaw  P</td>\n",
       "      <td>Płatność kartą 30.11.2024 Nr karty 4246xx0146</td>\n",
       "      <td>-6.00</td>\n",
       "      <td>ING Bank Śląski S.A.</td>\n",
       "    </tr>\n",
       "    <tr>\n",
       "      <th>4</th>\n",
       "      <td>2024-11-30</td>\n",
       "      <td>Myjnia NIKITA Sz. Klacz  Wroclaw  P</td>\n",
       "      <td>Płatność kartą 30.11.2024 Nr karty 4246xx0146</td>\n",
       "      <td>-6.00</td>\n",
       "      <td>ING Bank Śląski S.A.</td>\n",
       "    </tr>\n",
       "    <tr>\n",
       "      <th>39</th>\n",
       "      <td>2024-11-25</td>\n",
       "      <td>WROCLAVIA PARKING  WROCLAW POL 2024 -11-22</td>\n",
       "      <td>WROCLAVIA PARKING  WROCLAW POL 2024 -11-22</td>\n",
       "      <td>-10.00</td>\n",
       "      <td>Bank Millennium S.A</td>\n",
       "    </tr>\n",
       "    <tr>\n",
       "      <th>47</th>\n",
       "      <td>2024-11-25</td>\n",
       "      <td>SHELL 09  Wroclaw  POL</td>\n",
       "      <td>Płatność kartą 25.11.2024 Nr karty 4246xx0146</td>\n",
       "      <td>-195.07</td>\n",
       "      <td>ING Bank Śląski S.A.</td>\n",
       "    </tr>\n",
       "    <tr>\n",
       "      <th>53</th>\n",
       "      <td>2024-11-24</td>\n",
       "      <td>ORLEN STACJA NR 464  WARSZAWA  POL</td>\n",
       "      <td>Płatność kartą 24.11.2024 Nr karty 4246xx0146</td>\n",
       "      <td>-15.88</td>\n",
       "      <td>ING Bank Śląski S.A.</td>\n",
       "    </tr>\n",
       "    <tr>\n",
       "      <th>54</th>\n",
       "      <td>2024-11-24</td>\n",
       "      <td>ORLEN STACJA NR 464  WARSZAWA  POL</td>\n",
       "      <td>Płatność kartą 24.11.2024 Nr karty 4246xx0146</td>\n",
       "      <td>-270.22</td>\n",
       "      <td>ING Bank Śląski S.A.</td>\n",
       "    </tr>\n",
       "    <tr>\n",
       "      <th>62</th>\n",
       "      <td>2024-11-23</td>\n",
       "      <td>Taxi Agnieszka  Wroclaw  POL</td>\n",
       "      <td>Płatność kartą 23.11.2024 Nr karty 4246xx0146</td>\n",
       "      <td>-50.00</td>\n",
       "      <td>ING Bank Śląski S.A.</td>\n",
       "    </tr>\n",
       "    <tr>\n",
       "      <th>84</th>\n",
       "      <td>2024-11-19</td>\n",
       "      <td>WROCLAVIA PARKING  WROCLAW  POL</td>\n",
       "      <td>Płatność kartą 19.11.2024 Nr karty 4246xx3990</td>\n",
       "      <td>-15.00</td>\n",
       "      <td>ING Bank Śląski S.A.</td>\n",
       "    </tr>\n",
       "    <tr>\n",
       "      <th>121</th>\n",
       "      <td>2024-11-14</td>\n",
       "      <td>ORLEN STACJA NR 459  LANY  POL</td>\n",
       "      <td>Płatność kartą 14.11.2024 Nr karty 4246xx0146</td>\n",
       "      <td>-317.67</td>\n",
       "      <td>ING Bank Śląski S.A.</td>\n",
       "    </tr>\n",
       "    <tr>\n",
       "      <th>143</th>\n",
       "      <td>2024-11-12</td>\n",
       "      <td>SHELL 01  Ruda Slaska POL 2024-11-1 0</td>\n",
       "      <td>SHELL 01  Ruda Slaska POL 2024-11-1 0</td>\n",
       "      <td>-33.97</td>\n",
       "      <td>Bank Millennium S.A</td>\n",
       "    </tr>\n",
       "    <tr>\n",
       "      <th>153</th>\n",
       "      <td>2024-11-12</td>\n",
       "      <td>APCOA PARKEON  WARSZAWA  POL</td>\n",
       "      <td>Płatność kartą 12.11.2024 Nr karty 4246xx0146</td>\n",
       "      <td>-21.00</td>\n",
       "      <td>ING Bank Śląski S.A.</td>\n",
       "    </tr>\n",
       "    <tr>\n",
       "      <th>154</th>\n",
       "      <td>2024-11-12</td>\n",
       "      <td>WROCLAVIA PARKING  WROCLAW  POL</td>\n",
       "      <td>Płatność kartą 12.11.2024 Nr karty 4246xx0146</td>\n",
       "      <td>-5.00</td>\n",
       "      <td>ING Bank Śląski S.A.</td>\n",
       "    </tr>\n",
       "    <tr>\n",
       "      <th>161</th>\n",
       "      <td>2024-11-10</td>\n",
       "      <td>Autopay Mobility  Warszawa  POL</td>\n",
       "      <td>Płatność kartą 10.11.2024 Nr karty 4246xx3990</td>\n",
       "      <td>-16.00</td>\n",
       "      <td>ING Bank Śląski S.A.</td>\n",
       "    </tr>\n",
       "    <tr>\n",
       "      <th>162</th>\n",
       "      <td>2024-11-10</td>\n",
       "      <td>Autopay Mobility  Warszawa  POL</td>\n",
       "      <td>Płatność kartą 10.11.2024 Nr karty 4246xx3990</td>\n",
       "      <td>-16.00</td>\n",
       "      <td>ING Bank Śląski S.A.</td>\n",
       "    </tr>\n",
       "    <tr>\n",
       "      <th>180</th>\n",
       "      <td>2024-11-08</td>\n",
       "      <td>Autopay Mobility  Warszawa  POL</td>\n",
       "      <td>Płatność kartą 08.11.2024 Nr karty 4246xx3990</td>\n",
       "      <td>-16.00</td>\n",
       "      <td>ING Bank Śląski S.A.</td>\n",
       "    </tr>\n",
       "    <tr>\n",
       "      <th>181</th>\n",
       "      <td>2024-11-08</td>\n",
       "      <td>Autopay Mobility  Warszawa  POL</td>\n",
       "      <td>Płatność kartą 08.11.2024 Nr karty 4246xx3990</td>\n",
       "      <td>-16.00</td>\n",
       "      <td>ING Bank Śląski S.A.</td>\n",
       "    </tr>\n",
       "    <tr>\n",
       "      <th>223</th>\n",
       "      <td>2024-11-03</td>\n",
       "      <td>ORLEN STACJA NR 427  SMARDZOW  POL</td>\n",
       "      <td>Płatność kartą 03.11.2024 Nr karty 4246xx0146</td>\n",
       "      <td>-153.98</td>\n",
       "      <td>ING Bank Śląski S.A.</td>\n",
       "    </tr>\n",
       "  </tbody>\n",
       "</table>\n",
       "</div>"
      ]
     },
     "execution_count": 192,
     "metadata": {},
     "output_type": "execute_result"
    }
   ],
   "execution_count": 192
  },
  {
   "metadata": {
    "ExecuteTime": {
     "end_time": "2024-12-20T18:21:58.378352Z",
     "start_time": "2024-12-20T18:21:58.374697Z"
    }
   },
   "cell_type": "code",
   "source": "",
   "outputs": [],
   "execution_count": null
  }
 ],
 "metadata": {
  "kernelspec": {
   "display_name": ".venv",
   "language": "python",
   "name": "python3"
  },
  "language_info": {
   "codemirror_mode": {
    "name": "ipython",
    "version": 3
   },
   "file_extension": ".py",
   "mimetype": "text/x-python",
   "name": "python",
   "nbconvert_exporter": "python",
   "pygments_lexer": "ipython3",
   "version": "3.13.1"
  }
 },
 "nbformat": 4,
 "nbformat_minor": 2
}
