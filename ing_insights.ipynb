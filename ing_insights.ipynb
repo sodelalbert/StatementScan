{
 "cells": [
  {
   "cell_type": "markdown",
   "metadata": {},
   "source": [
    "# ING Insights\n",
    "\n",
    "\n",
    "Notebook used to categorize and automatically analyse transations data from ING Bank Account. This account is aggregation transaction information from all accounts in ING Bank as well as Millennium.\n",
    "\n",
    "Analysis should be used to aggregate per month infomrations infomrations about spending, mainly from accounts `Wspólne`, `Osobiste`, `Millennium`.\n",
    "\n",
    "\n",
    "**TODO**\n",
    "- [ ] Export to Excel\n",
    "- [ ] Different data analysis options\n",
    "- [ ] Make mark in Excel file which rows were analysed by the tool. Alternatively records could be removed from `df`"
   ]
  },
  {
   "cell_type": "markdown",
   "metadata": {},
   "source": [
    "## 01 - Importing data\n",
    "\n",
    "Import data from ING Bank history export. Class used to import the data `TransactionDataLoader` consisting fetching mechanism with data sanitization finctionalities."
   ]
  },
  {
   "cell_type": "code",
   "metadata": {},
   "source": [
    "from pathlib import Path\n",
    "\n",
    "from data_loader import *\n",
    "\n",
    "csv_import_1 = Path(\"data/Lista_transakcji_nr_0202366310_201224.csv\")\n",
    "csv_import_2 = Path(\"data/20241220_lista_transkcji_ing_mill_90.csv\")\n",
    "csv_import_3 = Path(\"data/ing_12_2024.csv\")\n",
    "\n",
    "df_import = TransactionDataLoader(csv_import_3).get_data()\n",
    "print(f\"Successfully imported dataframe with size {df_import.shape}\\n\\n\")\n",
    "\n"
   ],
   "outputs": [],
   "execution_count": null
  },
  {
   "cell_type": "markdown",
   "metadata": {},
   "source": [
    "## 02 - Data filtering\n",
    "\n",
    "\n",
    "Filter only usefully columns for further data analysis. This will be the base for further analysis of data.\n",
    "\n",
    "1. Columns should contain set of information which will be used for further analysis.\n",
    "2. Values of `Kwota transakcji (waluta rachunku)` should be __negative__. Only expenses to be analysed.\n",
    "3. Exclude own transfers.\n"
   ]
  },
  {
   "cell_type": "code",
   "metadata": {},
   "source": [
    "selected_columns = ['Data transakcji', 'Dane kontrahenta', 'Tytuł', 'Kwota transakcji (waluta rachunku)', 'Bank']\n",
    "\n",
    "# 1. Only useful columns used for analysis\n",
    "df_c = df_import[selected_columns]\n",
    "\n",
    "# 2. Remove rows with negative values in column ''Kwota transakcji (waluta rachunku)''\n",
    "df_neg = df_c[df_c['Kwota transakcji (waluta rachunku)'] < 0]\n",
    "\n",
    "# 3. Exclude own transfers\n",
    "df_not = df_neg[df_neg[\"Tytuł\"].str.contains(\"Przelew własny|Own transfer\") == False]\n",
    "\n",
    "# TODO: Lowercase all columns\n",
    "# 4. Filter out not relevant transactions.\n",
    "df = df_not[df_not[\"Dane kontrahenta\"].str.contains(\"Albert|ALBERT|Raty|RATA|RATY|Rata\") == False]"
   ],
   "outputs": [],
   "execution_count": null
  },
  {
   "cell_type": "markdown",
   "metadata": {},
   "source": [
    "## 03 - Categorization\n",
    "\n",
    "\n",
    "Define categories for analysis and fill the data based on filter definition applied to `Dane kontrachenta` in `df` data frame.\n",
    "\n",
    "`ExpenseCategory` dataclass contains atrribute for sotring data filtered by applied filter.\n",
    "\n",
    "Categorized expance data will be storred in `expense_category_list`\n"
   ]
  },
  {
   "cell_type": "code",
   "metadata": {},
   "source": [
    "\"\"\"\n",
    "Input data for analysis: df\n",
    "\n",
    "ExpenceCategiries dataclass instance containing objects of expense category.\n",
    " - name: str\n",
    " - filter: str\n",
    " - sum: Optional[float]\n",
    " - data_frame: Optional[pd.DataFrame]\n",
    "\"\"\"\n",
    "expense_category_list = [\n",
    "    ExpenseCategory(name=\"Zakupy spożywcze\",\n",
    "                    filter=\"LIDL|BIED|ZAB|PIEKARNIA|Zygula|Piekarstwo|CARREFOUR|FAMILIJNA|CENTRUM WINA|NETTO|AUCHAN\"),\n",
    "    ExpenseCategory(name=\"Kosmetyki\",\n",
    "                    filter=\"ROSSMANN|notino\"),\n",
    "    ExpenseCategory(name=\"Restauracje\",\n",
    "                    filter=\"PIAZZA|COCKPEAT|CHLEBOTEKA|WHISKEYINTHEJAR|TUTTI|NEWPORT CAFE|SHRIMP HOUSE\"),\n",
    "    ExpenseCategory(name=\"Zdrowie\",\n",
    "                    filter=\"APTEKA|LUX MED|SUPER-PHARM\"),\n",
    "    ExpenseCategory(name=\"Transport\",\n",
    "                    filter=\"SHELL|Myjnia|ORLEN|WROCLAVIA PARKING|Taxi|APCOA|Autopay|STACJA PALIW|CIRCLE K\")\n",
    "]\n",
    "\n",
    "# Filter df dataframe and fill each ExpenseCategory data class attributes.\n",
    "for i in range(len(expense_category_list)):\n",
    "    expense_category_list[i].data_frame = df[\n",
    "        df[\"Dane kontrahenta\"].str.contains(expense_category_list[i].filter) == True]\n",
    "\n",
    "    expense_category_list[i].sum = abs(\n",
    "        round(float(expense_category_list[i].data_frame[\"Kwota transakcji (waluta rachunku)\"].sum()), 2))"
   ],
   "outputs": [],
   "execution_count": null
  },
  {
   "metadata": {},
   "cell_type": "markdown",
   "source": [
    "### 3.1 - Categorization helper\n",
    "\n",
    "Based on data which is not matching any filter build better filter for transactions in account statement."
   ]
  },
  {
   "metadata": {},
   "cell_type": "code",
   "source": [
    "sep = \"|\"\n",
    "flt_t = []\n",
    "\n",
    "for exp in expense_category_list:\n",
    "    flt_t.append(exp.filter)\n",
    "\n",
    "# Transactions not matching defined filters.\n",
    "n_df = df[df[\"Dane kontrahenta\"].str.contains(sep.join(flt_t)) == False]\n",
    "\n",
    "print(\n",
    "    f\"\\x1b[31m\"  # Colour output red\n",
    "    f\"Transactions not categorized: {n_df.shape[0]} with total sum of: \"\n",
    "    f\"{round(n_df[\"Kwota transakcji (waluta rachunku)\"].sum(), 2)} PLN\"\n",
    "    f\"\\x1b[0m\")\n",
    "n_df\n"
   ],
   "outputs": [],
   "execution_count": null
  },
  {
   "cell_type": "markdown",
   "metadata": {},
   "source": [
    "## 04 - Plotting\n",
    "\n",
    "Transform `expense_category_list` to data frame for ploting purpose."
   ]
  },
  {
   "cell_type": "code",
   "metadata": {},
   "source": [
    "from dataclasses import asdict\n",
    "\n",
    "expense_dicts = [asdict(expense) for expense in expense_category_list]\n",
    "plt_df = pd.DataFrame(expense_dicts)\n"
   ],
   "outputs": [],
   "execution_count": null
  },
  {
   "cell_type": "markdown",
   "metadata": {},
   "source": "Build plot to demonstrate expanse distribution."
  },
  {
   "cell_type": "code",
   "metadata": {},
   "source": [
    "import matplotlib.pyplot as plt\n",
    "import numpy as np\n",
    "\n",
    "categories = plt_df['name']\n",
    "values = plt_df['sum']\n",
    "\n",
    "# Sort data by values\n",
    "sorted_indices = np.argsort(values)[::-1]  # Descending order\n",
    "categories_sorted = [categories[i] for i in sorted_indices]\n",
    "values_sorted = [values[i] for i in sorted_indices]\n",
    "\n",
    "# Add data labels\n",
    "for i, value in enumerate(values_sorted):\n",
    "    plt.text(i, value + 0.5,  # Position slightly above the bar\n",
    "             str(value),  # Label text\n",
    "             ha='center',  # Horizontal alignment\n",
    "             va='bottom')  # Vertical alignment\n",
    "\n",
    "# Plot the bar chart\n",
    "bars = plt.bar(categories_sorted, values_sorted)\n",
    "\n",
    "# Configure plot\n",
    "plt.xticks(rotation=-60)\n",
    "plt.title('Analiza transakcji w Banku ING')\n",
    "\n",
    "# Show the plot\n",
    "plt.show()\n",
    "\n",
    "# plt_df sorted by biggest sum value\n",
    "plt_df.sort_values(by='sum', ascending=False)[['name', 'sum']]"
   ],
   "outputs": [],
   "execution_count": null
  },
  {
   "metadata": {},
   "cell_type": "markdown",
   "source": [
    "## 99 - Debug\n",
    "\n",
    "Debug categorized data based on filters defined. Use index <> expace mapping from Plotting section."
   ]
  },
  {
   "cell_type": "code",
   "metadata": {},
   "source": [
    "# Verification of category mapping, id of expense category above.\n",
    "\n",
    "expense_category_list[0].data_frame\n"
   ],
   "outputs": [],
   "execution_count": null
  },
  {
   "metadata": {},
   "cell_type": "code",
   "source": "",
   "outputs": [],
   "execution_count": null
  }
 ],
 "metadata": {
  "kernelspec": {
   "display_name": ".venv",
   "language": "python",
   "name": "python3"
  },
  "language_info": {
   "codemirror_mode": {
    "name": "ipython",
    "version": 3
   },
   "file_extension": ".py",
   "mimetype": "text/x-python",
   "name": "python",
   "nbconvert_exporter": "python",
   "pygments_lexer": "ipython3",
   "version": "3.13.1"
  }
 },
 "nbformat": 4,
 "nbformat_minor": 2
}
