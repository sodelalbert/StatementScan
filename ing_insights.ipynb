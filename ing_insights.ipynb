{
 "cells": [
  {
   "cell_type": "markdown",
   "metadata": {},
   "source": [
    "# ING Insights\n",
    "\n",
    "\n",
    "Notebook used to categorize and automatically analyse transations data from ING Bank Account. This account is aggregation transaction information from all accounts in ING Bank as well as Millennium.\n",
    "\n",
    "Analysis should be used to aggregate per month infomrations infomrations about spending, mainly from accounts `Wspólne`, `Osobiste`, `Millennium`.\n",
    "\n",
    "\n",
    "**TODO**\n",
    "- [ ] Export to Excel\n",
    "- [ ] Different data analysis options"
   ]
  },
  {
   "cell_type": "markdown",
   "metadata": {},
   "source": [
    "## 01 - Importing data\n",
    "\n",
    "Import data from ING Bank history export. Class used to import the data `TransactionDataLoader` consisting fetching mechanism with data sanitization finctionalities."
   ]
  },
  {
   "cell_type": "code",
   "metadata": {},
   "source": [
    "from pathlib import Path\n",
    "\n",
    "from data_loader import *\n",
    "\n",
    "csv_import_1 = Path(\"data/Lista_transakcji_nr_0202366310_201224.csv\")\n",
    "csv_import_2 = Path(\"data/20241220_lista_transkcji_ing_mill_90.csv\")\n",
    "csv_import_3 = Path(\"data/Lista_transakcji_nr_0202026071_161224_ING_MILL.csv\")\n",
    "\n",
    "df = TransactionDataLoader(csv_import_1).get_data()\n",
    "print(f\"Successfully imported dataframe with size {df.shape}\\n\\n\")\n",
    "\n"
   ],
   "outputs": [],
   "execution_count": null
  },
  {
   "cell_type": "markdown",
   "metadata": {},
   "source": [
    "## 02 - Data filtering and sanitization\n",
    "\n",
    "\n",
    "Filter only usefully columns for further data analysis. This will be the base for further analysis of data.\n"
   ]
  },
  {
   "cell_type": "code",
   "metadata": {},
   "source": [
    "selected_columns = ['Data transakcji', 'Dane kontrahenta', 'Tytuł', 'Kwota transakcji (waluta rachunku)', 'Bank']\n",
    "f_df = df[selected_columns]\n"
   ],
   "outputs": [],
   "execution_count": null
  },
  {
   "cell_type": "markdown",
   "metadata": {},
   "source": [
    "## 03 - Categorization\n",
    "\n",
    "\n",
    "Define categories for analysis and fill the data based on filter definition applied to `Dane kontrachenta` in `f_df` data frame.\n"
   ]
  },
  {
   "metadata": {},
   "cell_type": "code",
   "source": [
    "\"\"\"\n",
    "Input data for analysis: f_df\n",
    "\"\"\"\n",
    "\n",
    "#ExpenceCategiries instance containing objects of expense category.\n",
    "expense_category_list = [\n",
    "    ExpenseCategory(name=\"Zakupy spożywcze\", filter=\"LIDL|BIED|ZAB|PIEKARNIA\"),\n",
    "    ExpenseCategory(name=\"Kosmetyki\", filter=\"ROSSMANN|notino\"),\n",
    "    ExpenseCategory(name=\"Restauracje\", filter=\"PIAZZA|COCKPEAT|CHLEBOTEKA|WHISKEYINTHEJAR|TUTTI\")\n",
    "]\n",
    "\n",
    "# Filter f_df dataframe and fill each ExpenseCategory data class attributes.\n",
    "for i in range(len(expense_category_list)):\n",
    "    expense_category_list[i].data_frame = f_df[\n",
    "        f_df[\"Dane kontrahenta\"].str.contains(expense_category_list[i].filter) == True]\n",
    "\n",
    "    expense_category_list[i].sum = abs(\n",
    "        round(float(expense_category_list[i].data_frame[\"Kwota transakcji (waluta rachunku)\"].sum()), 2))"
   ],
   "outputs": [],
   "execution_count": null
  },
  {
   "metadata": {},
   "cell_type": "markdown",
   "source": "Transform `expense_category_list` to data frame."
  },
  {
   "metadata": {},
   "cell_type": "code",
   "source": [
    "from dataclasses import asdict\n",
    "\n",
    "expense_dicts = [asdict(expense) for expense in expense_category_list]\n",
    "temp_df = pd.DataFrame(expense_dicts)\n"
   ],
   "outputs": [],
   "execution_count": null
  },
  {
   "metadata": {},
   "cell_type": "markdown",
   "source": "Plot"
  },
  {
   "metadata": {},
   "cell_type": "code",
   "source": [
    "import matplotlib.pyplot as plt\n",
    "\n",
    "# Plot the bar chart\n",
    "bars = plt.bar(temp_df['name'], temp_df['sum'])\n",
    "\n",
    "plt.title('Analiza transakcji w Banku ING')\n",
    "\n",
    "# Show the plot\n",
    "plt.show()\n",
    "\n",
    "temp_df[['name', 'sum']]"
   ],
   "outputs": [],
   "execution_count": null
  },
  {
   "metadata": {},
   "cell_type": "code",
   "source": "",
   "outputs": [],
   "execution_count": null
  }
 ],
 "metadata": {
  "kernelspec": {
   "display_name": ".venv",
   "language": "python",
   "name": "python3"
  },
  "language_info": {
   "codemirror_mode": {
    "name": "ipython",
    "version": 3
   },
   "file_extension": ".py",
   "mimetype": "text/x-python",
   "name": "python",
   "nbconvert_exporter": "python",
   "pygments_lexer": "ipython3",
   "version": "3.13.1"
  }
 },
 "nbformat": 4,
 "nbformat_minor": 2
}
