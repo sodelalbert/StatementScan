{
 "cells": [
  {
   "cell_type": "markdown",
   "metadata": {},
   "source": [
    "# ING Insights\n",
    "\n",
    "\n",
    "Notebook used to categorize and automatically analyse transations data from ING Bank Account. This account is aggregation transaction information from all accounts in ING Bank as well as Millennium.\n",
    "\n",
    "Analysis should be used to aggregate per month infomrations infomrations about spending, mainly from accounts `Wspólne`, `Osobiste`, `Millennium`.\n"
   ]
  },
  {
   "cell_type": "markdown",
   "metadata": {},
   "source": [
    "## 01 - Importing data\n",
    "\n",
    "Import data from ING Bank history export. Class used to import the data `TransactionDataLoader` consisting fetching mechanism with data sanitization finctionalities."
   ]
  },
  {
   "cell_type": "code",
   "execution_count": 268,
   "metadata": {},
   "outputs": [
    {
     "name": "stdout",
     "output_type": "stream",
     "text": [
      "Succesfully imported dataftame with size (789, 18)\n",
      "\n",
      "     Data transakcji    Data księgowania    Dane kontrahenta                                    Tytuł                                           Nr rachunku                     Nazwa banku                         Szczegóły    Nr transakcji           Kwota transakcji (waluta rachunku)  Waluta      Kwota blokady/zwolnienie blokady  Waluta.1      Kwota płatności w walucie    Waluta.2  Konto       Bank                    Saldo po transakcji  Waluta.3\n",
      "--  -----------------  ------------------  --------------------------------------------------  ----------------------------------------------  ------------------------------  ----------------------------------  -----------  --------------------  ------------------------------------  --------  ----------------------------------  ----------  ---------------------------  ----------  ----------  --------------------  ---------------------  ----------\n",
      " 0  16/12/2024         16/12/2024          #LN#000560803741 SPŁATA RATY KREDYT U               #LN#000560803741 SPŁATA RATY KREDYT U           ''                              nan                                 nan          '20241216400018157'                               -5109.87  PLN                                   nan     nan                                 nan         nan  Millennium  Bank Millennium S.A                  nan     nan\n",
      " 1  16/12/2024         16/12/2024          ROSSMANN 36  Krakow POL 2024-12-14                  ROSSMANN 36  Krakow POL 2024-12-14              ''                              nan                                 nan          '20241216400008764'                                -125.95  PLN                                   nan     nan                                 nan         nan  Millennium  Bank Millennium S.A                  nan     nan\n",
      " 2  16/12/2024         16/12/2024          SODEL ALBERT ŁUKASZ SADOWA 28 55-00 2 DOBRZYKOWICE  Swoje                                           'PL82105014321000009090903783'  nan                                 nan          '20241216400001668'                                 150     PLN                                   nan     nan                                 nan         nan  Millennium  Bank Millennium S.A                  nan     nan\n",
      " 3  16/12/2024         16/12/2024          PayPro S.A.                                         /OPT/X/////P24-H4R-T4B-H0J                      '29124060741111001115969590 '   PEKAO O. w Warszawie                PRZELEW      '202435197202021413'                               -759.8   PLN                                   nan     nan                                 nan         nan  Osobiste    ING Bank Śląski S.A.                 251.93  PLN\n",
      " 4  16/12/2024         16/12/2024          SODEL ALBERT ŁUKASZ SADOWA 28 55-002 DOBRZYKOWICE   Przelew własny                                  '76105014321000009731987658 '   ING Bank Śląski S.A.                PRZELEW      '202435197202018001'                                700     PLN                                   nan     nan                                 nan         nan  Osobiste    ING Bank Śląski S.A.                1011.73  PLN\n",
      " 5  16/12/2024         nan                 notino.pl  Brno  CZE                                Płatność kartą  16.12.2024 Nr karty 4246xx0146  nan                             nan                                 nan          nan                                                -316.88  nan                                  -316.88  PLN                                 nan         nan  Osobiste    ING Bank Śląski S.A.                 311.73  PLN\n",
      " 6  15/12/2024         15/12/2024          SODEL ALBERT ŁUKASZ SADOWA 28 DOBRZYKOWICE          Swoje                                           '96116022020000000560797495 '   Millennium - Centrum Rozliczeniowe  EXPRESS      '202435064002613706'                               -150     PLN                                   nan     nan                                 nan         nan  Osobiste    ING Bank Śląski S.A.                 628.61  PLN\n",
      " 7  15/12/2024         15/12/2024          SODEL ALBERT ŁUKASZ SADOWA 28 55-002 DOBRZYKOWICE   Przelew własny                                  '40105014321000009720965129 '   ING Bank Śląski S.A.                PRZELEW      '202435097202399742'                                484     PLN                                   nan     nan                                 nan         nan  Osobiste    ING Bank Śląski S.A.                 778.61  PLN\n",
      " 8  15/12/2024         15/12/2024          SODEL ALBERT ŁUKASZ SADOWA 28 55-002 DOBRZYKOWICE   Przelew własny                                  '82105014321000009090903783 '   ING Bank Śląski S.A.                PRZELEW      '202435097202399742'                               -484     PLN                                   nan     nan                                 nan         nan  Wspólne     ING Bank Śląski S.A.                   0     PLN\n",
      " 9  15/12/2024         nan                 JMP S.A. BIEDRONKA 6270  DOBRZYKOWI                 Płatność kartą  15.12.2024 Nr karty 4246xx0146  nan                             nan                                 nan          nan                                                 -51.14  nan                                   -51.14  PLN                                 nan         nan  Osobiste    ING Bank Śląski S.A.                 294.61  PLN\n",
      "10  15/12/2024         nan                 Autopay Mobility  Warszawa  POL                     Płatność kartą  15.12.2024 Nr karty 4246xx3990  nan                             nan                                 nan          nan                                                 -16     nan                                   -16     PLN                                 nan         nan  Wspólne     ING Bank Śląski S.A.                 484     PLN\n",
      "11  15/12/2024         15/12/2024          NATALIA MARIA GĘBKA-ADAMCZYK                        Pomyłka Od: 48698249894 Do: 485**** *176        '60102023680000280204833762 '   PKOBP Oddział 1 w Bytomiu           P.BLIK       '202435064020726879'                                500     PLN                                   nan     nan                                 nan         nan  Wspólne     ING Bank Śląski S.A.                 500     PLN\n",
      "12  15/12/2024         15/12/2024          SODEL WERONIKA SADOWA 28 55-002 DOBRZYKOWICE        Own transfer                                    '09105015751000009721964360 '   ING Bank Śląski S.A.                PRZELEW      '202435097202009792'                              -1000     PLN                                   nan     nan                                 nan         nan  Wspólne     ING Bank Śląski S.A.                   0     PLN\n",
      "13  15/12/2024         15/12/2024          SODEL ALBERT ŁUKASZ SADOWA 28 55-002 DOBRZYKOWICE   Przelew własny                                  '40105014321000009720965129 '   ING Bank Śląski S.A.                PRZELEW      '202435097202003093'                                298.03  PLN                                   nan     nan                                 nan         nan  Osobiste    ING Bank Śląski S.A.                 345.75  PLN\n",
      "14  15/12/2024         15/12/2024          SODEL ALBERT ŁUKASZ SADOWA 28 55-002 DOBRZYKOWICE   Przelew własny                                  '82105014321000009090903783 '   ING Bank Śląski S.A.                PRZELEW      '202435097202003093'                               -298.03  PLN                                   nan     nan                                 nan         nan  Wspólne     ING Bank Śląski S.A.                1000     PLN\n",
      "15  15/12/2024         15/12/2024          SODEL ALBERT ŁUKASZ SADOWA 28 55-002 DOBRZYKOWICE   Przelew własny                                  '15105014321000009702118770 '   ING Bank Śląski S.A.                PRZELEW      '202435097201585078'                               1200     PLN                                   nan     nan                                 nan         nan  Wspólne     ING Bank Śląski S.A.                1298.03  PLN\n",
      "16  15/12/2024         nan                 Autopay Mobility  Warszawa  POL                     Płatność kartą  15.12.2024 Nr karty 4246xx3990  nan                             nan                                 nan          nan                                                 -16     nan                                   -16     PLN                                 nan         nan  Wspólne     ING Bank Śląski S.A.                  98.03  PLN\n",
      "17  15/12/2024         15/12/2024          SODEL ALBERT ŁUKASZ SADOWA 28 55-002 DOBRZYKOWICE   Przelew własny                                  '82105014321000009090903783 '   ING Bank Śląski S.A.                PRZELEW      '202435097201344003'                                100     PLN                                   nan     nan                                 nan         nan  Wspólne     ING Bank Śląski S.A.                 114.03  PLN\n",
      "18  15/12/2024         15/12/2024          SODEL ALBERT ŁUKASZ SADOWA 28 55-002 DOBRZYKOWICE   Przelew własny                                  '40105014321000009720965129 '   ING Bank Śląski S.A.                PRZELEW      '202435097201344003'                               -100     PLN                                   nan     nan                                 nan         nan  Osobiste    ING Bank Śląski S.A.                  47.72  PLN\n",
      "19  14/12/2024         14/12/2024          EMPIK S.A.  WROCLAW POL 2024-12-12                  EMPIK S.A.  WROCLAW POL 2024-12-12              ''                              nan                                 nan          '20241214400010729'                                 -16.57  PLN                                   nan     nan                                 nan         nan  Millennium  Bank Millennium S.A                  nan     nan\n"
     ]
    }
   ],
   "source": [
    "from tabulate import tabulate\n",
    "from pathlib import Path\n",
    "from data_loader import TransactionDataLoader\n",
    "\n",
    "csv_import_1 = Path(\"data/20241220_lista_transkcji_ing_90.csv\")\n",
    "csv_import_2 = Path(\"data/20241220_lista_transkcji_ing_mill_90.csv\")\n",
    "csv_import_3 = Path(\"data/Lista_transakcji_nr_0202026071_161224_ING_MILL.csv\")\n",
    "\n",
    "df = TransactionDataLoader(csv_import_3).get_data()\n",
    "\n",
    "# If Data transakcji is  empty, fill it with Data księgownia\n",
    "df.loc[df[\"Data transakcji\"].isna(), \"Data transakcji\"] = df[\"Data księgowania\"]\n",
    "\n",
    "# For all blocked transatcions fill the Kwota tranakcji with tha blocked ammount.\n",
    "df.loc[df[\"Kwota transakcji (waluta rachunku)\"].isna(), \"Kwota transakcji (waluta rachunku)\"] = df[\"Kwota blokady/zwolnienie blokady\"]\n",
    "\n",
    "print(f\"Succesfully imported dataftame with size {df.shape}\\n\\n\", tabulate(df.head(20), headers='keys'))"
   ]
  },
  {
   "cell_type": "markdown",
   "metadata": {},
   "source": [
    "## 02 - Data filtering and sanitization\n",
    "\n",
    "\n",
    "Filter only usefull columns for further data analysiss"
   ]
  },
  {
   "cell_type": "code",
   "execution_count": 272,
   "metadata": {},
   "outputs": [
    {
     "name": "stdout",
     "output_type": "stream",
     "text": [
      "    Data transakcji    Dane kontrahenta                                    Tytuł                                             Kwota transakcji (waluta rachunku)  Bank\n",
      "--  -----------------  --------------------------------------------------  ----------------------------------------------  ------------------------------------  --------------------\n",
      " 0  16/12/2024         #LN#000560803741 SPŁATA RATY KREDYT U               #LN#000560803741 SPŁATA RATY KREDYT U                                       -5109.87  Bank Millennium S.A\n",
      " 1  16/12/2024         ROSSMANN 36  Krakow POL 2024-12-14                  ROSSMANN 36  Krakow POL 2024-12-14                                           -125.95  Bank Millennium S.A\n",
      " 2  16/12/2024         SODEL ALBERT ŁUKASZ SADOWA 28 55-00 2 DOBRZYKOWICE  Swoje                                                                         150     Bank Millennium S.A\n",
      " 3  16/12/2024         PayPro S.A.                                         /OPT/X/////P24-H4R-T4B-H0J                                                   -759.8   ING Bank Śląski S.A.\n",
      " 4  16/12/2024         SODEL ALBERT ŁUKASZ SADOWA 28 55-002 DOBRZYKOWICE   Przelew własny                                                                700     ING Bank Śląski S.A.\n",
      " 5  16/12/2024         notino.pl  Brno  CZE                                Płatność kartą  16.12.2024 Nr karty 4246xx0146                               -316.88  ING Bank Śląski S.A.\n",
      " 6  15/12/2024         SODEL ALBERT ŁUKASZ SADOWA 28 DOBRZYKOWICE          Swoje                                                                        -150     ING Bank Śląski S.A.\n",
      " 7  15/12/2024         SODEL ALBERT ŁUKASZ SADOWA 28 55-002 DOBRZYKOWICE   Przelew własny                                                                484     ING Bank Śląski S.A.\n",
      " 8  15/12/2024         SODEL ALBERT ŁUKASZ SADOWA 28 55-002 DOBRZYKOWICE   Przelew własny                                                               -484     ING Bank Śląski S.A.\n",
      " 9  15/12/2024         JMP S.A. BIEDRONKA 6270  DOBRZYKOWI                 Płatność kartą  15.12.2024 Nr karty 4246xx0146                                -51.14  ING Bank Śląski S.A.\n"
     ]
    }
   ],
   "source": [
    "selected_columns = ['Data transakcji', 'Dane kontrahenta','Tytuł',  'Kwota transakcji (waluta rachunku)', 'Bank']\n",
    "new_df = df[selected_columns]\n",
    "\n",
    "print(tabulate(new_df.head(10), headers='keys'))"
   ]
  },
  {
   "cell_type": "markdown",
   "metadata": {},
   "source": [
    "## 03 - Category Definition\n",
    "\n"
   ]
  },
  {
   "cell_type": "code",
   "execution_count": null,
   "metadata": {},
   "outputs": [],
   "source": []
  },
  {
   "cell_type": "markdown",
   "metadata": {},
   "source": [
    "## 04 - Data Analysis\n",
    "\n"
   ]
  },
  {
   "cell_type": "code",
   "execution_count": null,
   "metadata": {},
   "outputs": [],
   "source": []
  },
  {
   "cell_type": "markdown",
   "metadata": {},
   "source": [
    "## 05 - Data Presentation\n"
   ]
  },
  {
   "cell_type": "code",
   "execution_count": null,
   "metadata": {},
   "outputs": [],
   "source": []
  },
  {
   "cell_type": "markdown",
   "metadata": {},
   "source": [
    "## 06 - Export to Excel file"
   ]
  },
  {
   "cell_type": "code",
   "execution_count": null,
   "metadata": {},
   "outputs": [],
   "source": []
  }
 ],
 "metadata": {
  "kernelspec": {
   "display_name": ".venv",
   "language": "python",
   "name": "python3"
  },
  "language_info": {
   "codemirror_mode": {
    "name": "ipython",
    "version": 3
   },
   "file_extension": ".py",
   "mimetype": "text/x-python",
   "name": "python",
   "nbconvert_exporter": "python",
   "pygments_lexer": "ipython3",
   "version": "3.13.1"
  }
 },
 "nbformat": 4,
 "nbformat_minor": 2
}
