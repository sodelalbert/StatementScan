{
 "cells": [
  {
   "cell_type": "markdown",
   "metadata": {},
   "source": [
    "# Bank Statement Analysis \n",
    "\n",
    "Jupyter Notebook created to categorize .csv based bank statment expances.  \n",
    "\n",
    "Currently suppoorted bank account export format is `ING Bank Śląski` which can aggreagate expances form other banks."
   ]
  },
  {
   "cell_type": "markdown",
   "metadata": {},
   "source": [
    "# Export data from Bank accounts\n",
    "\n",
    "\n",
    "**ING Bank Śląski** -  Export the accounts you would like to do analysis for. Usually I'm esporting expances from all accounts except `Rachunki` bank account to see how much money was spenf to things like grocery. Exported file have `.csv` format and `cp-1250` encoding.\n",
    "\n",
    "Data presnetation article\n",
    "https://www.shanelynn.ie/data-visualisation-in-python-pycon-dublin-2018-presentation/\n",
    "\n",
    "\n"
   ]
  },
  {
   "cell_type": "markdown",
   "metadata": {},
   "source": [
    "# Input Data"
   ]
  },
  {
   "cell_type": "code",
   "execution_count": null,
   "metadata": {},
   "outputs": [],
   "source": [
    "# ING_CSV = \"data/2025.csv\"\n",
    "ING_CSV = \"data/2024.csv\"\n",
    "# ING_CSV = \"data/2023.csv\"\n",
    "# ING_CSV = \"data/2022.csv\"\n",
    "# ING_CSV = \"data/2021.csv\"\n",
    "# ING_CSV = \"data/2020.csv\"\n",
    "# ING_CSV = \"data/2019.csv\"\n",
    "# ING_CSV = \"data/2018.csv\""
   ]
  },
  {
   "cell_type": "markdown",
   "metadata": {},
   "source": [
    "# 1. ING Bank Śląski\n",
    "\n"
   ]
  },
  {
   "cell_type": "markdown",
   "metadata": {},
   "source": [
    "## 1.1 Import Data from ING Bank Sląski\n",
    "\n",
    "Import raw data from .csv file.\n",
    "\n",
    "`header` - is an index of non empty row in input csv file. Will be used as `df` column name.\n"
   ]
  },
  {
   "cell_type": "code",
   "execution_count": 196,
   "metadata": {},
   "outputs": [],
   "source": [
    "import pandas as pd\n",
    "from tabulate import tabulate\n",
    "\n",
    "from helper import get_ing_header_row_index\n",
    "\n",
    "# Dataframe print settings\n",
    "pd.set_option('display.max_rows', None) # Show all rows\n",
    "pd.set_option('display.max_columns', None) # Show all columns\n",
    "pd.set_option('display.max_colwidth', None) # Optional: prevent truncating column width\n",
    "pd.set_option('display.width', None) # Optional: wide display for Jupyter environments\n",
    "\n",
    "# CSV file settings \n",
    "ING_ENCODING = \"cp1250\"\n",
    "ING_SEP = \";\"\n",
    "\n",
    "ing_raw_df = pd.read_csv(\n",
    "    ING_CSV,\n",
    "    encoding=ING_ENCODING,\n",
    "    sep=ING_SEP,\n",
    "    header=get_ing_header_row_index(\n",
    "        ING_CSV, ING_ENCODING\n",
    "    ),\n",
    ")\n",
    "\n",
    "# Trim data frame - Drop last row which is empty\n",
    "ing_raw_df.drop(ing_raw_df.tail(1).index, inplace=True)"
   ]
  },
  {
   "cell_type": "markdown",
   "metadata": {},
   "source": [
    "## 1.2 - Data preparation\n",
    "\n",
    "Ceanup the data from ING Bank account to extract only usefull columns\n",
    "\n",
    "* Trim data fame to get only usefull columns for analysis\n",
    "* Manipulate data\n",
    "* Set data types\n"
   ]
  },
  {
   "cell_type": "code",
   "execution_count": 197,
   "metadata": {},
   "outputs": [],
   "source": [
    "# *** TRIM DATA FRAME ***\n",
    "\n",
    "# Drop columns with \"Unnamed\" in the header\n",
    "df = ing_raw_df.loc[:, ~ing_raw_df.columns.str.startswith(\"Unnamed\")]\n",
    "\n",
    "\n",
    "# *** MODIFY DATA FRAME *** \n",
    "\n",
    "\"\"\"\n",
    "COPY Kwota blokady/zwolnienie blokady ->  Kwota transakcji (waluta rachunku). \n",
    "This is the case when the transaction is a blocked.\n",
    "\"\"\"\n",
    "\n",
    "df = df.copy() # needed due to error\n",
    "df.loc[\n",
    "    df[\"Kwota transakcji (waluta rachunku)\"].isna(),\n",
    "    \"Kwota transakcji (waluta rachunku)\"\n",
    "] = df[\"Kwota blokady/zwolnienie blokady\"]\n",
    "\n",
    "\"\"\"\n",
    "RENAME Kwota transakcji (waluta rachunku) -> Kwota transakcji\n",
    "\"\"\"\n",
    "\n",
    "df = df.rename(columns={\"Kwota transakcji (waluta rachunku)\": \"Kwota transakcji\"})\n",
    "\n",
    "\n",
    "\"\"\"\n",
    "IF Dane kontrahenta empty COPY Tytuł\n",
    "\"\"\"\n",
    "\n",
    "df[\"Dane kontrahenta\"] = df.apply(\n",
    "    lambda row: row[\"Tytuł\"] if not row[\"Dane kontrahenta\"].strip() else row[\"Dane kontrahenta\"],\n",
    "    axis=1\n",
    ")\n",
    "\n",
    "# *** Select only needed columns ***\n",
    "\n",
    "\"\"\"\n",
    "Columns: Data transakcji; Dane kontrahenta; Kwota transakcji; Kategoria\n",
    "\"\"\"\n",
    "df = df.copy()\n",
    "df = df[[\"Data transakcji\", \"Dane kontrahenta\", \"Kwota transakcji\"]]\n",
    "df[\"Kategoria\"] = \"NaN\"\n",
    "\n",
    "\n",
    "# *** SET data types for columns ***\n",
    "\n",
    "df[\"Data transakcji\"] = df[\"Data transakcji\"].astype(\"datetime64[ns]\")\n",
    "df[\"Dane kontrahenta\"] = df[\"Dane kontrahenta\"].astype(str)\n",
    "\n",
    "df[\"Kwota transakcji\"] = df[\"Kwota transakcji\"].str.replace(\",\", \".\").astype(float) # Replace comma with dot\n",
    "df[\"Kwota transakcji\"] = df[\"Kwota transakcji\"].astype(float)\n",
    "df[\"Kwota transakcji\"] = -df[\"Kwota transakcji\"] # Change the sign of \"Kwota transakcji\" column\n",
    "\n",
    "df[\"Kategoria\"] = df[\"Kategoria\"].astype(str)\n"
   ]
  },
  {
   "cell_type": "code",
   "execution_count": 198,
   "metadata": {},
   "outputs": [
    {
     "data": {
      "text/plain": [
       "Data transakcji     datetime64[ns]\n",
       "Dane kontrahenta            object\n",
       "Kwota transakcji           float64\n",
       "Kategoria                   object\n",
       "dtype: object"
      ]
     },
     "execution_count": 198,
     "metadata": {},
     "output_type": "execute_result"
    }
   ],
   "source": [
    "df.dtypes"
   ]
  },
  {
   "cell_type": "code",
   "execution_count": 199,
   "metadata": {},
   "outputs": [
    {
     "data": {
      "text/plain": [
       "(2934, 4)"
      ]
     },
     "execution_count": 199,
     "metadata": {},
     "output_type": "execute_result"
    }
   ],
   "source": [
    "df.shape"
   ]
  },
  {
   "cell_type": "code",
   "execution_count": 200,
   "metadata": {},
   "outputs": [
    {
     "data": {
      "text/html": [
       "<div>\n",
       "<style scoped>\n",
       "    .dataframe tbody tr th:only-of-type {\n",
       "        vertical-align: middle;\n",
       "    }\n",
       "\n",
       "    .dataframe tbody tr th {\n",
       "        vertical-align: top;\n",
       "    }\n",
       "\n",
       "    .dataframe thead th {\n",
       "        text-align: right;\n",
       "    }\n",
       "</style>\n",
       "<table border=\"1\" class=\"dataframe\">\n",
       "  <thead>\n",
       "    <tr style=\"text-align: right;\">\n",
       "      <th></th>\n",
       "      <th>Data transakcji</th>\n",
       "      <th>Dane kontrahenta</th>\n",
       "      <th>Kwota transakcji</th>\n",
       "      <th>Kategoria</th>\n",
       "    </tr>\n",
       "  </thead>\n",
       "  <tbody>\n",
       "    <tr>\n",
       "      <th>2924</th>\n",
       "      <td>2022-01-02</td>\n",
       "      <td>BPKRASNAL 386 MOKRONOS DOLN PL</td>\n",
       "      <td>84.71</td>\n",
       "      <td>NaN</td>\n",
       "    </tr>\n",
       "    <tr>\n",
       "      <th>2925</th>\n",
       "      <td>2022-01-02</td>\n",
       "      <td>ZABKA Z5328 K1 WROCLAW PL</td>\n",
       "      <td>41.68</td>\n",
       "      <td>NaN</td>\n",
       "    </tr>\n",
       "    <tr>\n",
       "      <th>2926</th>\n",
       "      <td>2022-01-02</td>\n",
       "      <td>SHELL 01 Niemodlin PL</td>\n",
       "      <td>30.46</td>\n",
       "      <td>NaN</td>\n",
       "    </tr>\n",
       "    <tr>\n",
       "      <th>2927</th>\n",
       "      <td>2022-01-02</td>\n",
       "      <td>BPJESION 127 ZABRZE PL</td>\n",
       "      <td>11.90</td>\n",
       "      <td>NaN</td>\n",
       "    </tr>\n",
       "    <tr>\n",
       "      <th>2928</th>\n",
       "      <td>2022-01-02</td>\n",
       "      <td>Autopay Mobility Warszawa PL</td>\n",
       "      <td>1.00</td>\n",
       "      <td>NaN</td>\n",
       "    </tr>\n",
       "    <tr>\n",
       "      <th>2929</th>\n",
       "      <td>2022-01-01</td>\n",
       "      <td>Blue Media S.A. Powstancow Warszawy 6 Sopot</td>\n",
       "      <td>109.00</td>\n",
       "      <td>NaN</td>\n",
       "    </tr>\n",
       "    <tr>\n",
       "      <th>2930</th>\n",
       "      <td>2022-01-01</td>\n",
       "      <td>ADAMCZYK WERONIKA KOŚCIUSZKI 51 38-300 GORLICE</td>\n",
       "      <td>-250.00</td>\n",
       "      <td>NaN</td>\n",
       "    </tr>\n",
       "    <tr>\n",
       "      <th>2931</th>\n",
       "      <td>2022-01-01</td>\n",
       "      <td>GOSCINIEC DWORSKI68249 Ropa PL</td>\n",
       "      <td>94.00</td>\n",
       "      <td>NaN</td>\n",
       "    </tr>\n",
       "    <tr>\n",
       "      <th>2932</th>\n",
       "      <td>2022-01-01</td>\n",
       "      <td>SODEL ALBERT ŁUKASZ JAGODNE 100 27-220 MIRZEC</td>\n",
       "      <td>-100.00</td>\n",
       "      <td>NaN</td>\n",
       "    </tr>\n",
       "    <tr>\n",
       "      <th>2933</th>\n",
       "      <td>2022-01-01</td>\n",
       "      <td>GOK PIJALNIA WOD MINERALN WYSOWA 38</td>\n",
       "      <td>3.60</td>\n",
       "      <td>NaN</td>\n",
       "    </tr>\n",
       "  </tbody>\n",
       "</table>\n",
       "</div>"
      ],
      "text/plain": [
       "     Data transakcji                                  Dane kontrahenta  \\\n",
       "2924      2022-01-02                   BPKRASNAL 386 MOKRONOS DOLN PL    \n",
       "2925      2022-01-02                        ZABKA Z5328 K1 WROCLAW PL    \n",
       "2926      2022-01-02                            SHELL 01 Niemodlin PL    \n",
       "2927      2022-01-02                           BPJESION 127 ZABRZE PL    \n",
       "2928      2022-01-02                     Autopay Mobility Warszawa PL    \n",
       "2929      2022-01-01      Blue Media S.A. Powstancow Warszawy 6 Sopot    \n",
       "2930      2022-01-01   ADAMCZYK WERONIKA KOŚCIUSZKI 51 38-300 GORLICE    \n",
       "2931      2022-01-01                   GOSCINIEC DWORSKI68249 Ropa PL    \n",
       "2932      2022-01-01    SODEL ALBERT ŁUKASZ JAGODNE 100 27-220 MIRZEC    \n",
       "2933      2022-01-01              GOK PIJALNIA WOD MINERALN WYSOWA 38    \n",
       "\n",
       "      Kwota transakcji Kategoria  \n",
       "2924             84.71       NaN  \n",
       "2925             41.68       NaN  \n",
       "2926             30.46       NaN  \n",
       "2927             11.90       NaN  \n",
       "2928              1.00       NaN  \n",
       "2929            109.00       NaN  \n",
       "2930           -250.00       NaN  \n",
       "2931             94.00       NaN  \n",
       "2932           -100.00       NaN  \n",
       "2933              3.60       NaN  "
      ]
     },
     "execution_count": 200,
     "metadata": {},
     "output_type": "execute_result"
    }
   ],
   "source": [
    "df.tail(10)"
   ]
  },
  {
   "cell_type": "markdown",
   "metadata": {},
   "source": [
    "## 1.3 Categorize ING Bank Statment Data\n"
   ]
  },
  {
   "cell_type": "code",
   "execution_count": 201,
   "metadata": {},
   "outputs": [],
   "source": [
    "# Keywords for each category\n",
    "category_keywords = {\n",
    "    \"Zakupy spożywcze\": [\"biedronka\", \"lidl\", \"kaufland\", \"carrefour\", \"netto\", \"zabka\", \"freshmarket\",\n",
    "                          \"stokrotka\", \"auchan\", \"selgros\", \"tesco\", \"intermarche\", \"leclerc\", \"freshmarket\", \"piekar\"],\n",
    "    # \"Paliwo\": [\"orlen\", \"bp\", \"shell\"],\n",
    "    # \"Restauracje\": [\"mcdonald\", \"kfc\", \"pizza\"],\n",
    "}\n",
    "\n",
    "# Lowercase \"Dane kontrahenta\" for case-insensitive matching\n",
    "df[\"Dane_lower\"] = df[\"Dane kontrahenta\"].str.lower()\n",
    "\n",
    "\n",
    "# Function to find category\n",
    "def find_category(dane):\n",
    "    for category, keywords in category_keywords.items():\n",
    "        if any(keyword in dane for keyword in keywords):\n",
    "            return category\n",
    "    return \"Inne\"  # default if no match\n",
    "\n",
    "# Apply the function\n",
    "df[\"Kategoria\"] = df[\"Dane_lower\"].apply(find_category)\n",
    "\n",
    "# Drop helper column if not needed\n",
    "df.drop(columns=[\"Dane_lower\"], inplace=True)\n",
    "\n",
    "\n",
    "# DEBUG: Save the dataframe as an Excel file\n",
    "# df.to_csv(\"test.csv\", sep=\";\", index=False, encoding=ING_ENCODING)\n",
    "\n",
    "df_categorized =  df[df[\"Kategoria\"] == \"Zakupy spożywcze\"]\n"
   ]
  },
  {
   "cell_type": "markdown",
   "metadata": {},
   "source": [
    "## 1.4 Data Visualisation\n"
   ]
  },
  {
   "cell_type": "code",
   "execution_count": 202,
   "metadata": {},
   "outputs": [
    {
     "data": {
      "image/png": "[encoded data removed]",
      "text/plain": [
       "<Figure size 1000x600 with 1 Axes>"
      ]
     },
     "metadata": {},
     "output_type": "display_data"
    }
   ],
   "source": [
    "import matplotlib.pyplot as plt\n",
    "\n",
    "# Group by month and sum the transaction amounts for \"Zakupy spożywcze\"\n",
    "df_categorized = df_categorized.copy()\n",
    "df_categorized[\"Month\"] = df_categorized[\"Data transakcji\"].dt.to_period(\"M\")\n",
    "monthly_summary_grocery = df_categorized.groupby(\"Month\")[\"Kwota transakcji\"].sum()\n",
    "\n",
    "# Calculate the average value\n",
    "average_value = monthly_summary_grocery.mean()\n",
    "\n",
    "# Plot the monthly summary\n",
    "ax = monthly_summary_grocery.plot(kind=\"bar\", figsize=(10, 6), color=\"skyblue\", label=\"Monthly Total\")\n",
    "plt.axhline(y=average_value, color=\"red\", linestyle=\"--\", label=f\"Average ({average_value:.2f})\")\n",
    "plt.title(f\"Zakupy spożywcze - Monthly Summary for {ING_CSV}\")\n",
    "plt.xlabel(\"Month\")\n",
    "plt.ylabel(\"Total Amount (PLN)\")\n",
    "plt.xticks(rotation=45)\n",
    "plt.grid(axis=\"y\", linestyle=\"--\", alpha=0.7)\n",
    "\n",
    "# Add data labels at the end of each bar\n",
    "for i, value in enumerate(monthly_summary_grocery):\n",
    "    ax.text(i, value + 50, f\"{value:.2f}\", ha=\"center\", va=\"bottom\", fontsize=9)\n",
    "\n",
    "plt.legend()\n",
    "plt.tight_layout()\n",
    "plt.show()\n"
   ]
  }
 ],
 "metadata": {
  "kernelspec": {
   "display_name": ".venv",
   "language": "python",
   "name": "python3"
  },
  "language_info": {
   "codemirror_mode": {
    "name": "ipython",
    "version": 3
   },
   "file_extension": ".py",
   "mimetype": "text/x-python",
   "name": "python",
   "nbconvert_exporter": "python",
   "pygments_lexer": "ipython3",
   "version": "3.13.1"
  }
 },
 "nbformat": 4,
 "nbformat_minor": 4
}
