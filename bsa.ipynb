{
 "cells": [
  {
   "cell_type": "markdown",
   "metadata": {},
   "source": [
    "# Bank Statement Analysis \n",
    "\n",
    "Jupyter Notebook created to categorize .csv based bank statment expances.  \n",
    "\n",
    "Currently suppoorted bank account export format is `ING Bank Śląski` which can aggreagate expances form other banks."
   ]
  },
  {
   "cell_type": "markdown",
   "metadata": {},
   "source": [
    "# Export data from Bank accounts\n",
    "\n",
    "\n",
    "**ING Bank Śląski** -  Export the accounts you would like to do analysis for. Usually I'm esporting expances from all accounts except `Rachunki` bank account to see how much money was spenf to things like grocery. Exported file have `.csv` format and `cp-1250` encoding.\n",
    "\n",
    "Data presnetation article\n",
    "https://www.shanelynn.ie/data-visualisation-in-python-pycon-dublin-2018-presentation/\n",
    "\n",
    "\n"
   ]
  },
  {
   "cell_type": "markdown",
   "metadata": {},
   "source": [
    "## Input Data"
   ]
  },
  {
   "cell_type": "code",
   "execution_count": 34,
   "metadata": {},
   "outputs": [],
   "source": [
    "ING_CSV = \"data/ing_mil_24_25.csv\""
   ]
  },
  {
   "cell_type": "markdown",
   "metadata": {},
   "source": [
    "## Categorization"
   ]
  },
  {
   "cell_type": "code",
   "execution_count": 35,
   "metadata": {},
   "outputs": [],
   "source": [
    "CATEGORY = {}"
   ]
  },
  {
   "cell_type": "markdown",
   "metadata": {},
   "source": [
    "# 1. ING Bank Śląski\n",
    "\n"
   ]
  },
  {
   "cell_type": "markdown",
   "metadata": {},
   "source": [
    "## 1.1 Import Data from ING Bank Sląski\n",
    "\n",
    "Import raw data from .csv file.\n",
    "\n",
    "`header` - is an index of non empty row in input csv file. Will be used as `df` column name.\n"
   ]
  },
  {
   "cell_type": "code",
   "execution_count": 36,
   "metadata": {},
   "outputs": [],
   "source": [
    "import pandas as pd\n",
    "from tabulate import tabulate\n",
    "\n",
    "from helper import get_ing_header_row_index\n",
    "\n",
    "# Dataframe print settings\n",
    "pd.set_option('display.max_rows', None) # Show all rows\n",
    "pd.set_option('display.max_columns', None) # Show all columns\n",
    "pd.set_option('display.max_colwidth', None) # Optional: prevent truncating column width\n",
    "pd.set_option('display.width', None) # Optional: wide display for Jupyter environments\n",
    "\n",
    "# CSV file settings \n",
    "ING_ENCODING = \"cp1250\"\n",
    "ING_SEP = \";\"\n",
    "\n",
    "ing_raw_df = pd.read_csv(\n",
    "    ING_CSV,\n",
    "    encoding=ING_ENCODING,\n",
    "    sep=ING_SEP,\n",
    "    header=get_ing_header_row_index(\n",
    "        ING_CSV, ING_ENCODING\n",
    "    ),\n",
    ")\n",
    "\n",
    "# Trim data frame - Drop last row which is empty\n",
    "ing_raw_df.drop(ing_raw_df.tail(1).index, inplace=True)"
   ]
  },
  {
   "cell_type": "markdown",
   "metadata": {},
   "source": [
    "## 1.2 - Data preparation\n",
    "\n",
    "Ceanup the data from ING Bank account to extract only usefull columns\n",
    "\n",
    "* Trim data fame to get only usefull columns for analysis\n",
    "* Manipulate data\n",
    "* Set data types\n"
   ]
  },
  {
   "cell_type": "code",
   "execution_count": null,
   "metadata": {},
   "outputs": [],
   "source": [
    "# *** TRIM DATA FRAME ***\n",
    "\n",
    "# Drop columns with \"Unnamed\" in the header\n",
    "df = ing_raw_df.loc[:, ~ing_raw_df.columns.str.startswith(\"Unnamed\")]\n",
    "\n",
    "\n",
    "# *** MODIFY DATA FRAME *** \n",
    "\n",
    "\"\"\"\n",
    "COPY Kwota blokady/zwolnienie blokady ->  Kwota transakcji (waluta rachunku). \n",
    "This is the case when the transaction is a blocked.\n",
    "\"\"\"\n",
    "\n",
    "df = df.copy() # needed due to error\n",
    "df.loc[\n",
    "    df[\"Kwota transakcji (waluta rachunku)\"].isna(),\n",
    "    \"Kwota transakcji (waluta rachunku)\"\n",
    "] = df[\"Kwota blokady/zwolnienie blokady\"]\n",
    "\n",
    "\"\"\"\n",
    "RENAME Kwota transakcji (waluta rachunku) -> Kwota transakcji\n",
    "\"\"\"\n",
    "\n",
    "df = df.rename(columns={\"Kwota transakcji (waluta rachunku)\": \"Kwota transakcji\"})\n",
    "\n",
    "\n",
    "\"\"\"\n",
    "IF Dane kontrahenta empty COPY Tytuł\n",
    "\"\"\"\n",
    "\n",
    "df[\"Dane kontrahenta\"] = df.apply(\n",
    "    lambda row: row[\"Tytuł\"] if not row[\"Dane kontrahenta\"].strip() else row[\"Dane kontrahenta\"],\n",
    "    axis=1\n",
    ")\n",
    "\n",
    "# *** Select only needed columns ***\n",
    "\n",
    "\"\"\"\n",
    "Columns: Data transakcji; Dane kontrahenta; Kwota transakcji; Kategoria\n",
    "\"\"\"\n",
    "df = df.copy()\n",
    "df = df[[\"Data transakcji\", \"Dane kontrahenta\", \"Kwota transakcji\"]]\n",
    "df[\"Kategoria\"] = \"NaN\"\n",
    "\n",
    "\n",
    "# *** SET data types for columns ***\n",
    "\n",
    "df[\"Data transakcji\"] = df[\"Data transakcji\"].astype(\"datetime64[ns]\")\n",
    "df[\"Dane kontrahenta\"] = df[\"Dane kontrahenta\"].astype(str)\n",
    "\n",
    "df[\"Kwota transakcji\"] = df[\"Kwota transakcji\"].str.replace(\",\", \".\").astype(float) # Replace comma with dot\n",
    "df[\"Kwota transakcji\"] = df[\"Kwota transakcji\"].astype(float)\n",
    "df[\"Kwota transakcji\"] = -df[\"Kwota transakcji\"] # Change the sign of \"Kwota transakcji\" column\n",
    "\n",
    "df[\"Kategoria\"] = df[\"Kategoria\"].astype(str)\n"
   ]
  },
  {
   "cell_type": "code",
   "execution_count": 38,
   "metadata": {},
   "outputs": [
    {
     "data": {
      "text/plain": [
       "Data transakcji     datetime64[ns]\n",
       "Dane kontrahenta            object\n",
       "Kwota transakcji           float64\n",
       "Kategoria                   object\n",
       "dtype: object"
      ]
     },
     "execution_count": 38,
     "metadata": {},
     "output_type": "execute_result"
    }
   ],
   "source": [
    "df.dtypes"
   ]
  },
  {
   "cell_type": "code",
   "execution_count": 39,
   "metadata": {},
   "outputs": [
    {
     "data": {
      "text/plain": [
       "(2892, 4)"
      ]
     },
     "execution_count": 39,
     "metadata": {},
     "output_type": "execute_result"
    }
   ],
   "source": [
    "df.shape"
   ]
  },
  {
   "cell_type": "code",
   "execution_count": 40,
   "metadata": {},
   "outputs": [
    {
     "data": {
      "text/html": [
       "<div>\n",
       "<style scoped>\n",
       "    .dataframe tbody tr th:only-of-type {\n",
       "        vertical-align: middle;\n",
       "    }\n",
       "\n",
       "    .dataframe tbody tr th {\n",
       "        vertical-align: top;\n",
       "    }\n",
       "\n",
       "    .dataframe thead th {\n",
       "        text-align: right;\n",
       "    }\n",
       "</style>\n",
       "<table border=\"1\" class=\"dataframe\">\n",
       "  <thead>\n",
       "    <tr style=\"text-align: right;\">\n",
       "      <th></th>\n",
       "      <th>Data transakcji</th>\n",
       "      <th>Dane kontrahenta</th>\n",
       "      <th>Kwota transakcji</th>\n",
       "      <th>Kategoria</th>\n",
       "    </tr>\n",
       "  </thead>\n",
       "  <tbody>\n",
       "    <tr>\n",
       "      <th>2882</th>\n",
       "      <td>2024-01-02</td>\n",
       "      <td>ZABKA ZB312 K.2           DOBRZYKOW</td>\n",
       "      <td>23.79</td>\n",
       "      <td>NaN</td>\n",
       "    </tr>\n",
       "    <tr>\n",
       "      <th>2883</th>\n",
       "      <td>2024-01-02</td>\n",
       "      <td>ZABKA ZB312 K.2           DOBRZYKOW</td>\n",
       "      <td>11.69</td>\n",
       "      <td>NaN</td>\n",
       "    </tr>\n",
       "    <tr>\n",
       "      <th>2884</th>\n",
       "      <td>2024-01-02</td>\n",
       "      <td>PIZZERIA TUTTI SANTI      WROCLAW</td>\n",
       "      <td>117.98</td>\n",
       "      <td>NaN</td>\n",
       "    </tr>\n",
       "    <tr>\n",
       "      <th>2885</th>\n",
       "      <td>2024-01-01</td>\n",
       "      <td>PIAZZA PIZZERIA  Wroclaw  POL</td>\n",
       "      <td>69.00</td>\n",
       "      <td>NaN</td>\n",
       "    </tr>\n",
       "    <tr>\n",
       "      <th>2886</th>\n",
       "      <td>2024-01-01</td>\n",
       "      <td>Myjnia NIKITA Sz. Klacz  Wroclaw  P</td>\n",
       "      <td>6.00</td>\n",
       "      <td>NaN</td>\n",
       "    </tr>\n",
       "    <tr>\n",
       "      <th>2887</th>\n",
       "      <td>2024-01-01</td>\n",
       "      <td>BP-KRASNAL 386  MOKRONOS DOLN  POL</td>\n",
       "      <td>13.97</td>\n",
       "      <td>NaN</td>\n",
       "    </tr>\n",
       "    <tr>\n",
       "      <th>2888</th>\n",
       "      <td>2024-01-01</td>\n",
       "      <td>PlayStation Network       Hilversum</td>\n",
       "      <td>244.30</td>\n",
       "      <td>NaN</td>\n",
       "    </tr>\n",
       "    <tr>\n",
       "      <th>2889</th>\n",
       "      <td>2024-01-01</td>\n",
       "      <td>PIEKARSTWO\"              LANY \"</td>\n",
       "      <td>20.90</td>\n",
       "      <td>NaN</td>\n",
       "    </tr>\n",
       "    <tr>\n",
       "      <th>2890</th>\n",
       "      <td>2024-01-01</td>\n",
       "      <td>ETNO CAFE                 WROCLAW</td>\n",
       "      <td>30.80</td>\n",
       "      <td>NaN</td>\n",
       "    </tr>\n",
       "    <tr>\n",
       "      <th>2891</th>\n",
       "      <td>2024-01-01</td>\n",
       "      <td>SUPER-PHARM WROCLAW MAG   WROCLAW</td>\n",
       "      <td>23.99</td>\n",
       "      <td>NaN</td>\n",
       "    </tr>\n",
       "  </tbody>\n",
       "</table>\n",
       "</div>"
      ],
      "text/plain": [
       "     Data transakcji                       Dane kontrahenta  Kwota transakcji  \\\n",
       "2882      2024-01-02   ZABKA ZB312 K.2           DOBRZYKOW              23.79   \n",
       "2883      2024-01-02   ZABKA ZB312 K.2           DOBRZYKOW              11.69   \n",
       "2884      2024-01-02     PIZZERIA TUTTI SANTI      WROCLAW             117.98   \n",
       "2885      2024-01-01         PIAZZA PIZZERIA  Wroclaw  POL              69.00   \n",
       "2886      2024-01-01   Myjnia NIKITA Sz. Klacz  Wroclaw  P               6.00   \n",
       "2887      2024-01-01    BP-KRASNAL 386  MOKRONOS DOLN  POL              13.97   \n",
       "2888      2024-01-01   PlayStation Network       Hilversum             244.30   \n",
       "2889      2024-01-01        PIEKARSTWO\"              LANY \"             20.90   \n",
       "2890      2024-01-01     ETNO CAFE                 WROCLAW              30.80   \n",
       "2891      2024-01-01     SUPER-PHARM WROCLAW MAG   WROCLAW              23.99   \n",
       "\n",
       "     Kategoria  \n",
       "2882       NaN  \n",
       "2883       NaN  \n",
       "2884       NaN  \n",
       "2885       NaN  \n",
       "2886       NaN  \n",
       "2887       NaN  \n",
       "2888       NaN  \n",
       "2889       NaN  \n",
       "2890       NaN  \n",
       "2891       NaN  "
      ]
     },
     "execution_count": 40,
     "metadata": {},
     "output_type": "execute_result"
    }
   ],
   "source": [
    "df.tail(10)"
   ]
  },
  {
   "cell_type": "markdown",
   "metadata": {},
   "source": [
    "## 1.3 Categorize ING Bank Statment Data\n"
   ]
  },
  {
   "cell_type": "code",
   "execution_count": 41,
   "metadata": {},
   "outputs": [],
   "source": [
    "# Keywords for each category\n",
    "category_keywords = {\n",
    "    \"Zakupy spożywcze\": [\"biedronka\", \"lidl\", \"kaufland\", \"carrefour\", \"netto\", \"zabka\", \"freshmarket\",\n",
    "                          \"stokrotka\", \"auchan\", \"selgros\", \"tesco\", \"intermarche\", \"leclerc\", \"freshmarket\", \"piekar\"],\n",
    "    # \"Paliwo\": [\"orlen\", \"bp\", \"shell\"],\n",
    "    # \"Restauracje\": [\"mcdonald\", \"kfc\", \"pizza\"],\n",
    "}\n",
    "\n",
    "# Lowercase \"Dane kontrahenta\" for case-insensitive matching\n",
    "df[\"Dane_lower\"] = df[\"Dane kontrahenta\"].str.lower()\n",
    "\n",
    "\n",
    "# Function to find category\n",
    "def find_category(dane):\n",
    "    for category, keywords in category_keywords.items():\n",
    "        if any(keyword in dane for keyword in keywords):\n",
    "            return category\n",
    "    return \"Inne\"  # default if no match\n",
    "\n",
    "# Apply the function\n",
    "df[\"Kategoria\"] = df[\"Dane_lower\"].apply(find_category)\n",
    "\n",
    "# Drop helper column if not needed\n",
    "df.drop(columns=[\"Dane_lower\"], inplace=True)\n",
    "\n",
    "\n",
    "# DEBUG: Save the dataframe as an Excel file\n",
    "# df.to_csv(\"test.csv\", sep=\";\", index=False, encoding=ING_ENCODING)\n",
    "\n",
    "df_categorized =  df[df[\"Kategoria\"] == \"Zakupy spożywcze\"]\n"
   ]
  },
  {
   "cell_type": "markdown",
   "metadata": {},
   "source": [
    "## 1.4 Data Visualisation\n"
   ]
  },
  {
   "cell_type": "code",
   "execution_count": null,
   "metadata": {},
   "outputs": [
    {
     "name": "stderr",
     "output_type": "stream",
     "text": [
      "/var/folders/2p/vjq15lqs1c7c9m_kcl6hj4d00000gn/T/ipykernel_67962/2322985660.py:4: SettingWithCopyWarning: \n",
      "A value is trying to be set on a copy of a slice from a DataFrame.\n",
      "Try using .loc[row_indexer,col_indexer] = value instead\n",
      "\n",
      "See the caveats in the documentation: https://pandas.pydata.org/pandas-docs/stable/user_guide/indexing.html#returning-a-view-versus-a-copy\n",
      "  df_categorized[\"Month\"] = df_categorized[\"Data transakcji\"].dt.to_period(\"M\")\n"
     ]
    },
    {
     "data": {
      "image/png": "[encoded data removed]",
      "text/plain": [
       "<Figure size 1000x600 with 1 Axes>"
      ]
     },
     "metadata": {},
     "output_type": "display_data"
    }
   ],
   "source": [
    "import matplotlib.pyplot as plt\n",
    "\n",
    "# Group by month and sum the transaction amounts for \"Zakupy spożywcze\"\n",
    "df_categorized[\"Month\"] = df_categorized[\"Data transakcji\"].dt.to_period(\"M\")\n",
    "monthly_summary = df_categorized.groupby(\"Month\")[\"Kwota transakcji\"].sum()\n",
    "\n",
    "# Calculate the average value\n",
    "average_value = monthly_summary.mean()\n",
    "\n",
    "# Plot the monthly summary\n",
    "ax = monthly_summary.plot(kind=\"bar\", figsize=(10, 6), color=\"skyblue\", label=\"Monthly Total\")\n",
    "plt.axhline(y=average_value, color=\"red\", linestyle=\"--\", label=f\"Average ({average_value:.2f})\")\n",
    "plt.title(\"Zakupy spożywcze - Monthly Summary\")\n",
    "plt.xlabel(\"Month\")\n",
    "plt.ylabel(\"Total Amount (PLN)\")\n",
    "plt.xticks(rotation=45)\n",
    "plt.grid(axis=\"y\", linestyle=\"--\", alpha=0.7)\n",
    "\n",
    "# Add data labels at the end of each bar\n",
    "for i, value in enumerate(monthly_summary):\n",
    "    ax.text(i, value + 50, f\"{value:.2f}\", ha=\"center\", va=\"bottom\", fontsize=9)\n",
    "\n",
    "plt.legend()\n",
    "plt.tight_layout()\n",
    "plt.show()\n"
   ]
  }
 ],
 "metadata": {
  "kernelspec": {
   "display_name": ".venv",
   "language": "python",
   "name": "python3"
  },
  "language_info": {
   "codemirror_mode": {
    "name": "ipython",
    "version": 3
   },
   "file_extension": ".py",
   "mimetype": "text/x-python",
   "name": "python",
   "nbconvert_exporter": "python",
   "pygments_lexer": "ipython3",
   "version": "3.13.1"
  }
 },
 "nbformat": 4,
 "nbformat_minor": 4
}
