{
 "cells": [
  {
   "cell_type": "markdown",
   "metadata": {},
   "source": [
    "# Bank Statement Analysis \n",
    "\n",
    "Jupyter Notebook created to categorize .csv based bank statment expances.  \n",
    "\n",
    "Currently suppoorted bank account export format is `ING Bank Śląski` which can aggreagate expances form other banks."
   ]
  },
  {
   "cell_type": "markdown",
   "metadata": {},
   "source": [
    "# Export data from Bank accounts\n",
    "\n",
    "\n",
    "**ING Bank Śląski** -  Export the accounts you would like to do analysis for. Usually I'm esporting expances from all accounts except `Rachunki` bank account to see how much money was spenf to things like grocery. Exported file have `.csv` format and `cp-1250` encoding.\n",
    "\n",
    "Data presnetation article\n",
    "https://www.shanelynn.ie/data-visualisation-in-python-pycon-dublin-2018-presentation/\n",
    "\n",
    "\n"
   ]
  },
  {
   "cell_type": "markdown",
   "metadata": {},
   "source": [
    "## Input Data"
   ]
  },
  {
   "cell_type": "code",
   "execution_count": null,
   "metadata": {},
   "outputs": [],
   "source": [
    "ING_CSV = \"data/mil_rach_2025.csv\""
   ]
  },
  {
   "cell_type": "markdown",
   "metadata": {},
   "source": [
    "## Categorization"
   ]
  },
  {
   "cell_type": "code",
   "execution_count": 2,
   "metadata": {},
   "outputs": [],
   "source": [
    "CATEGORY = {}"
   ]
  },
  {
   "cell_type": "markdown",
   "metadata": {},
   "source": [
    "# 1. ING Bank Śląski\n",
    "\n"
   ]
  },
  {
   "cell_type": "markdown",
   "metadata": {},
   "source": [
    "## 1.1 Import Data from ING Bank Sląski\n",
    "\n",
    "Import raw data from .csv file.\n",
    "\n",
    "`header` - is an index of non empty row in input csv file. Will be used as `df` column name.\n"
   ]
  },
  {
   "cell_type": "code",
   "execution_count": 44,
   "metadata": {},
   "outputs": [],
   "source": [
    "import pandas as pd\n",
    "from tabulate import tabulate\n",
    "\n",
    "from helper import get_ing_header_row_index\n",
    "\n",
    "# Dataframe print settings\n",
    "pd.set_option('display.max_rows', None) # Show all rows\n",
    "pd.set_option('display.max_columns', None) # Show all columns\n",
    "pd.set_option('display.max_colwidth', None) # Optional: prevent truncating column width\n",
    "pd.set_option('display.width', None) # Optional: wide display for Jupyter environments\n",
    "\n",
    "# CSV file settings \n",
    "ING_ENCODING = \"cp1250\"\n",
    "ING_SEP = \";\"\n",
    "\n",
    "ing_raw_df = pd.read_csv(\n",
    "    ING_CSV,\n",
    "    encoding=ING_ENCODING,\n",
    "    sep=ING_SEP,\n",
    "    header=get_ing_header_row_index(\n",
    "        ING_CSV, ING_ENCODING\n",
    "    ),\n",
    ")\n",
    "\n",
    "# Trim data frame - Drop last row which is empty\n",
    "ing_raw_df.drop(ing_raw_df.tail(1).index, inplace=True)"
   ]
  },
  {
   "cell_type": "markdown",
   "metadata": {},
   "source": [
    "## 1.2 - Data preparation\n",
    "\n",
    "Ceanup the data from ING Bank account to extract only usefull columns\n",
    "\n",
    "* Trim data fame to get only usefull columns for analysis\n",
    "* Manipulate data\n",
    "* Set data types\n"
   ]
  },
  {
   "cell_type": "code",
   "execution_count": 92,
   "metadata": {},
   "outputs": [],
   "source": [
    "# *** TRIM DATA FRAME ***\n",
    "\n",
    "# Drop columns with \"Unnamed\" in the header\n",
    "df = ing_raw_df.loc[:, ~ing_raw_df.columns.str.startswith(\"Unnamed\")]\n",
    "\n",
    "\n",
    "# *** MODIFY DATA FRAME *** \n",
    "\n",
    "\"\"\"\n",
    "COPY Kwota blokady/zwolnienie blokady ->  Kwota transakcji (waluta rachunku). \n",
    "This is the case when the transaction is a blocked.\n",
    "\"\"\"\n",
    "\n",
    "df = df.copy() # needed due to error\n",
    "df.loc[\n",
    "    df[\"Kwota transakcji (waluta rachunku)\"].isna(),\n",
    "    \"Kwota transakcji (waluta rachunku)\"\n",
    "] = df[\"Kwota blokady/zwolnienie blokady\"]\n",
    "\n",
    "\"\"\"\n",
    "RENAME Kwota transakcji (waluta rachunku) -> Kwota transakcji\n",
    "\"\"\"\n",
    "\n",
    "df = df.rename(columns={\"Kwota transakcji (waluta rachunku)\": \"Kwota transakcji\"})\n",
    "\n",
    "\"\"\"\n",
    "IF Dane kontrahenta empty COPY Tytuł\n",
    "\"\"\"\n",
    "\n",
    "df[\"Dane kontrahenta\"] = df.apply(\n",
    "    lambda row: row[\"Tytuł\"] if not row[\"Dane kontrahenta\"].strip() else row[\"Dane kontrahenta\"],\n",
    "    axis=1\n",
    ")\n",
    "\n",
    "# *** Select only needed columns ***\n",
    "\n",
    "\"\"\"\n",
    "Columns: Data transakcji; Dane kontrahenta; Kwota transakcji; Kategoria\n",
    "\"\"\"\n",
    "df = df.copy()\n",
    "df = df[[\"Data transakcji\", \"Dane kontrahenta\", \"Kwota transakcji\"]]\n",
    "df[\"Kategoria\"] = \"NaN\"\n",
    "\n",
    "\n",
    "# *** SET data types for columns ***\n",
    "\n",
    "df[\"Data transakcji\"] = df[\"Data transakcji\"].astype(\"datetime64[ns]\")\n",
    "df[\"Dane kontrahenta\"] = df[\"Dane kontrahenta\"].astype(str)\n",
    "\n",
    "df[\"Kwota transakcji\"] = df[\"Kwota transakcji\"].str.replace(\",\", \".\").astype(float) # Replace comma with dot\n",
    "df[\"Kwota transakcji\"] = df[\"Kwota transakcji\"].astype(float)\n",
    "\n",
    "df[\"Kategoria\"] = df[\"Kategoria\"].astype(str)\n",
    "\n",
    "\n"
   ]
  },
  {
   "cell_type": "code",
   "execution_count": 94,
   "metadata": {},
   "outputs": [
    {
     "data": {
      "text/plain": [
       "Data transakcji     datetime64[ns]\n",
       "Dane kontrahenta            object\n",
       "Kwota transakcji           float64\n",
       "Kategoria                   object\n",
       "dtype: object"
      ]
     },
     "execution_count": 94,
     "metadata": {},
     "output_type": "execute_result"
    }
   ],
   "source": [
    "df.dtypes"
   ]
  },
  {
   "cell_type": "code",
   "execution_count": 97,
   "metadata": {},
   "outputs": [
    {
     "data": {
      "text/plain": [
       "(457, 4)"
      ]
     },
     "execution_count": 97,
     "metadata": {},
     "output_type": "execute_result"
    }
   ],
   "source": [
    "df.shape"
   ]
  },
  {
   "cell_type": "code",
   "execution_count": 93,
   "metadata": {},
   "outputs": [
    {
     "data": {
      "text/html": [
       "<div>\n",
       "<style scoped>\n",
       "    .dataframe tbody tr th:only-of-type {\n",
       "        vertical-align: middle;\n",
       "    }\n",
       "\n",
       "    .dataframe tbody tr th {\n",
       "        vertical-align: top;\n",
       "    }\n",
       "\n",
       "    .dataframe thead th {\n",
       "        text-align: right;\n",
       "    }\n",
       "</style>\n",
       "<table border=\"1\" class=\"dataframe\">\n",
       "  <thead>\n",
       "    <tr style=\"text-align: right;\">\n",
       "      <th></th>\n",
       "      <th>Data transakcji</th>\n",
       "      <th>Dane kontrahenta</th>\n",
       "      <th>Kwota transakcji</th>\n",
       "      <th>Kategoria</th>\n",
       "    </tr>\n",
       "  </thead>\n",
       "  <tbody>\n",
       "    <tr>\n",
       "      <th>0</th>\n",
       "      <td>2025-04-19</td>\n",
       "      <td>UL. KOSCIUSZKI 44E  GORLICE  POL</td>\n",
       "      <td>-500.00</td>\n",
       "      <td>NaN</td>\n",
       "    </tr>\n",
       "    <tr>\n",
       "      <th>1</th>\n",
       "      <td>2025-04-19</td>\n",
       "      <td>SODEL ALBERT ŁUKASZ SADOWA 28 55-002 DOBRZYKOWICE</td>\n",
       "      <td>1.00</td>\n",
       "      <td>NaN</td>\n",
       "    </tr>\n",
       "    <tr>\n",
       "      <th>2</th>\n",
       "      <td>2025-04-19</td>\n",
       "      <td>SODEL ALBERT ŁUKASZ SADOWA 28 DOBRZYKOWICE</td>\n",
       "      <td>310.00</td>\n",
       "      <td>NaN</td>\n",
       "    </tr>\n",
       "    <tr>\n",
       "      <th>3</th>\n",
       "      <td>2025-04-19</td>\n",
       "      <td>Autopay Mobility  Warszawa  POL</td>\n",
       "      <td>-17.00</td>\n",
       "      <td>NaN</td>\n",
       "    </tr>\n",
       "    <tr>\n",
       "      <th>4</th>\n",
       "      <td>2025-04-19</td>\n",
       "      <td>Autopay Mobility  Warszawa  POL</td>\n",
       "      <td>-17.00</td>\n",
       "      <td>NaN</td>\n",
       "    </tr>\n",
       "    <tr>\n",
       "      <th>5</th>\n",
       "      <td>2025-04-19</td>\n",
       "      <td>ORLEN STACJA NR 459  LANY  POL</td>\n",
       "      <td>-233.58</td>\n",
       "      <td>NaN</td>\n",
       "    </tr>\n",
       "    <tr>\n",
       "      <th>6</th>\n",
       "      <td>2025-04-19</td>\n",
       "      <td>LIDL STRACHOCINSKA  WROCLAW  POL</td>\n",
       "      <td>-164.20</td>\n",
       "      <td>NaN</td>\n",
       "    </tr>\n",
       "    <tr>\n",
       "      <th>7</th>\n",
       "      <td>2025-04-19</td>\n",
       "      <td>SODEL ALBERT ŁUKASZ SADOWA 28 DOBRZYKOWICE</td>\n",
       "      <td>600.00</td>\n",
       "      <td>NaN</td>\n",
       "    </tr>\n",
       "    <tr>\n",
       "      <th>8</th>\n",
       "      <td>2025-04-18</td>\n",
       "      <td>LIDL OLAWSKA  JELCZ-LASKOWI POL 202 5-04-16</td>\n",
       "      <td>-138.98</td>\n",
       "      <td>NaN</td>\n",
       "    </tr>\n",
       "    <tr>\n",
       "      <th>9</th>\n",
       "      <td>2025-04-17</td>\n",
       "      <td>LIDL STRACHOCINSKA  WROCLAW POL 202 5-04-15</td>\n",
       "      <td>-173.85</td>\n",
       "      <td>NaN</td>\n",
       "    </tr>\n",
       "  </tbody>\n",
       "</table>\n",
       "</div>"
      ],
      "text/plain": [
       "  Data transakcji                                     Dane kontrahenta  \\\n",
       "0      2025-04-19                    UL. KOSCIUSZKI 44E  GORLICE  POL    \n",
       "1      2025-04-19   SODEL ALBERT ŁUKASZ SADOWA 28 55-002 DOBRZYKOWICE    \n",
       "2      2025-04-19          SODEL ALBERT ŁUKASZ SADOWA 28 DOBRZYKOWICE    \n",
       "3      2025-04-19                     Autopay Mobility  Warszawa  POL    \n",
       "4      2025-04-19                     Autopay Mobility  Warszawa  POL    \n",
       "5      2025-04-19                      ORLEN STACJA NR 459  LANY  POL    \n",
       "6      2025-04-19                    LIDL STRACHOCINSKA  WROCLAW  POL    \n",
       "7      2025-04-19          SODEL ALBERT ŁUKASZ SADOWA 28 DOBRZYKOWICE    \n",
       "8      2025-04-18        LIDL OLAWSKA  JELCZ-LASKOWI POL 202 5-04-16     \n",
       "9      2025-04-17        LIDL STRACHOCINSKA  WROCLAW POL 202 5-04-15     \n",
       "\n",
       "   Kwota transakcji Kategoria  \n",
       "0           -500.00       NaN  \n",
       "1              1.00       NaN  \n",
       "2            310.00       NaN  \n",
       "3            -17.00       NaN  \n",
       "4            -17.00       NaN  \n",
       "5           -233.58       NaN  \n",
       "6           -164.20       NaN  \n",
       "7            600.00       NaN  \n",
       "8           -138.98       NaN  \n",
       "9           -173.85       NaN  "
      ]
     },
     "execution_count": 93,
     "metadata": {},
     "output_type": "execute_result"
    }
   ],
   "source": [
    "df.head(10)"
   ]
  },
  {
   "cell_type": "markdown",
   "metadata": {},
   "source": [
    "## 1.3 Categorize ING Bank Statment Data\n"
   ]
  },
  {
   "cell_type": "code",
   "execution_count": 19,
   "metadata": {},
   "outputs": [],
   "source": [
    "pass"
   ]
  },
  {
   "cell_type": "markdown",
   "metadata": {},
   "source": []
  }
 ],
 "metadata": {
  "kernelspec": {
   "display_name": ".venv",
   "language": "python",
   "name": "python3"
  },
  "language_info": {
   "codemirror_mode": {
    "name": "ipython",
    "version": 3
   },
   "file_extension": ".py",
   "mimetype": "text/x-python",
   "name": "python",
   "nbconvert_exporter": "python",
   "pygments_lexer": "ipython3",
   "version": "3.13.1"
  }
 },
 "nbformat": 4,
 "nbformat_minor": 4
}
