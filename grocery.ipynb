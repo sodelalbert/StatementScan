{
 "cells": [
  {
   "cell_type": "markdown",
   "metadata": {},
   "source": [
    "# Grocery Expance Analyser\n",
    "\n",
    "Jupyter Notebook created to categorize .csv based bank statment expances.  \n",
    "\n",
    "Currently suppoorted bank account export format is `ING Bank Śląski` which can aggreagate expances form other banks.\n",
    "\n",
    "I wrote it to analyze bank account statment to determine grocery expances and asess inflation over the years."
   ]
  },
  {
   "cell_type": "markdown",
   "metadata": {},
   "source": [
    "# Export data from Bank accounts\n",
    "\n",
    "\n",
    "**ING Bank Śląski** -  Export the accounts you would like to do analysis for. Usually I'm esporting expances from all accounts except `Rachunki` bank account to see how much money was spenf to things like grocery. Exported file have `.csv` format and `cp-1250` encoding.\n",
    "\n",
    "Data presnetation article\n",
    "https://www.shanelynn.ie/data-visualisation-in-python-pycon-dublin-2018-presentation/\n",
    "\n",
    "\n"
   ]
  },
  {
   "cell_type": "markdown",
   "metadata": {},
   "source": [
    "# Input Data"
   ]
  },
  {
   "cell_type": "code",
   "execution_count": 2,
   "metadata": {},
   "outputs": [],
   "source": [
    "# Uncomment data sources which you would like to analyse. \n",
    "\n",
    "CSV_LIST = [\n",
    "    \"data/2025_01-04.csv\",\n",
    "    # \"data/2024.csv\",\n",
    "    # \"data/2023.csv\",\n",
    "    # \"data/2022.csv\",\n",
    "    # \"data/2021.csv\",\n",
    "    # \"data/2020.csv\",\n",
    "    # \"data/2019.csv\",\n",
    "    # \"data/2018.csv\",\n",
    "]\n"
   ]
  },
  {
   "cell_type": "markdown",
   "metadata": {},
   "source": [
    "# 1. ING Bank Śląski\n",
    "\n"
   ]
  },
  {
   "cell_type": "markdown",
   "metadata": {},
   "source": [
    "## 1.1 Import Data from ING Bank Sląski\n",
    "\n",
    "Import raw data from .csv file.\n",
    "\n",
    "`header` - is an index of non empty row in input csv file. Will be used as `df` column name.\n"
   ]
  },
  {
   "cell_type": "code",
   "execution_count": 3,
   "metadata": {},
   "outputs": [],
   "source": [
    "import pandas as pd\n",
    "from tabulate import tabulate\n",
    "\n",
    "from helper import get_ing_header_row_index\n",
    "\n",
    "# Dataframe print settings\n",
    "pd.set_option('display.max_rows', None) # Show all rows\n",
    "pd.set_option('display.max_columns', None) # Show all columns\n",
    "pd.set_option('display.max_colwidth', None) # Optional: prevent truncating column width\n",
    "pd.set_option('display.width', None) # Optional: wide display for Jupyter environments\n",
    "\n",
    "# CSV file settings \n",
    "ING_ENCODING = \"cp1250\"\n",
    "ING_SEP = \";\"\n",
    "\n",
    "def import_csv_to_df(csv_file):\n",
    "    \"\"\"\n",
    "    Import CSV file to pandas DataFrame.\n",
    "    \"\"\"\n",
    "    \n",
    "    ing_raw_df = pd.read_csv(\n",
    "        csv_file,\n",
    "        encoding=ING_ENCODING,\n",
    "        sep=ING_SEP,\n",
    "        header=get_ing_header_row_index(\n",
    "            csv_file, ING_ENCODING\n",
    "        ),\n",
    "    )\n",
    "\n",
    "    # Trim data frame - Drop last row which is empty\n",
    "    ing_raw_df.drop(ing_raw_df.tail(1).index, inplace=True)\n",
    "\n",
    "    return ing_raw_df\n"
   ]
  },
  {
   "cell_type": "code",
   "execution_count": 4,
   "metadata": {},
   "outputs": [],
   "source": [
    "\n",
    "# Analyse batch of CSV files specified in CSV_LIST. \n",
    "# One file is special case which is working as well :)\n",
    "\n",
    "df_list = [import_csv_to_df(csv_file) for csv_file in CSV_LIST]\n",
    "df = pd.concat(df_list, ignore_index=True)\n"
   ]
  },
  {
   "cell_type": "markdown",
   "metadata": {},
   "source": [
    "## 1.2 - Data preparation\n",
    "\n",
    "Ceanup the data from ING Bank account to extract only usefull columns\n",
    "\n",
    "* Trim data fame to get only usefull columns for analysis\n",
    "* Manipulate data\n",
    "* Set data types\n"
   ]
  },
  {
   "cell_type": "code",
   "execution_count": 5,
   "metadata": {},
   "outputs": [],
   "source": [
    "# *** TRIM DATA FRAME ***\n",
    "\n",
    "# Drop columns with \"Unnamed\" in the header\n",
    "df = df.loc[:, ~df.columns.str.startswith(\"Unnamed\")]\n",
    "\n",
    "\n",
    "# *** MODIFY DATA FRAME *** \n",
    "\n",
    "\"\"\"\n",
    "COPY Kwota blokady/zwolnienie blokady ->  Kwota transakcji (waluta rachunku). \n",
    "This is the case when the transaction is a blocked.\n",
    "\"\"\"\n",
    "\n",
    "df = df.copy() # needed due to error\n",
    "df.loc[\n",
    "    df[\"Kwota transakcji (waluta rachunku)\"].isna(),\n",
    "    \"Kwota transakcji (waluta rachunku)\"\n",
    "] = df[\"Kwota blokady/zwolnienie blokady\"]\n",
    "\n",
    "\"\"\"\n",
    "RENAME Kwota transakcji (waluta rachunku) -> Kwota transakcji\n",
    "\"\"\"\n",
    "\n",
    "df = df.rename(columns={\"Kwota transakcji (waluta rachunku)\": \"Kwota transakcji\"})\n",
    "\n",
    "\n",
    "\"\"\"\n",
    "IF Dane kontrahenta empty COPY Tytuł\n",
    "\"\"\"\n",
    "\n",
    "df[\"Dane kontrahenta\"] = df.apply(\n",
    "    lambda row: row[\"Tytuł\"] if not row[\"Dane kontrahenta\"].strip() else row[\"Dane kontrahenta\"],\n",
    "    axis=1\n",
    ")\n",
    "\n",
    "# *** Select only needed columns ***\n",
    "\n",
    "\"\"\"\n",
    "Columns: Data transakcji; Dane kontrahenta; Kwota transakcji; Kategoria\n",
    "\"\"\"\n",
    "df = df.copy()\n",
    "df = df[[\"Data transakcji\", \"Dane kontrahenta\", \"Kwota transakcji\"]]\n",
    "df[\"Kategoria\"] = \"NaN\"\n",
    "\n",
    "\n",
    "# *** SET data types for columns ***\n",
    "\n",
    "df[\"Data transakcji\"] = df[\"Data transakcji\"].astype(\"datetime64[ns]\")\n",
    "df[\"Dane kontrahenta\"] = df[\"Dane kontrahenta\"].astype(str)\n",
    "\n",
    "df[\"Kwota transakcji\"] = df[\"Kwota transakcji\"].str.replace(\",\", \".\").astype(float) # Replace comma with dot\n",
    "df[\"Kwota transakcji\"] = df[\"Kwota transakcji\"].astype(float)\n",
    "df[\"Kwota transakcji\"] = -df[\"Kwota transakcji\"] # Change the sign of \"Kwota transakcji\" column\n",
    "\n",
    "df[\"Kategoria\"] = df[\"Kategoria\"].astype(str)\n"
   ]
  },
  {
   "cell_type": "code",
   "execution_count": 6,
   "metadata": {},
   "outputs": [
    {
     "data": {
      "text/plain": [
       "Data transakcji     datetime64[ns]\n",
       "Dane kontrahenta            object\n",
       "Kwota transakcji           float64\n",
       "Kategoria                   object\n",
       "dtype: object"
      ]
     },
     "execution_count": 6,
     "metadata": {},
     "output_type": "execute_result"
    }
   ],
   "source": [
    "df.dtypes"
   ]
  },
  {
   "cell_type": "code",
   "execution_count": 7,
   "metadata": {},
   "outputs": [
    {
     "data": {
      "text/plain": [
       "(1049, 4)"
      ]
     },
     "execution_count": 7,
     "metadata": {},
     "output_type": "execute_result"
    }
   ],
   "source": [
    "df.shape"
   ]
  },
  {
   "cell_type": "code",
   "execution_count": 8,
   "metadata": {},
   "outputs": [
    {
     "data": {
      "application/vnd.microsoft.datawrangler.viewer.v0+json": {
       "columns": [
        {
         "name": "index",
         "rawType": "int64",
         "type": "integer"
        },
        {
         "name": "Data transakcji",
         "rawType": "datetime64[ns]",
         "type": "datetime"
        },
        {
         "name": "Dane kontrahenta",
         "rawType": "object",
         "type": "string"
        },
        {
         "name": "Kwota transakcji",
         "rawType": "float64",
         "type": "float"
        },
        {
         "name": "Kategoria",
         "rawType": "object",
         "type": "string"
        }
       ],
       "conversionMethod": "pd.DataFrame",
       "ref": "7ec805d0-5eb2-48fe-b9c6-4d111d84b5e7",
       "rows": [
        [
         "434",
         "2025-03-13 00:00:00",
         " LIDL STRACHOCINSKA  WROCLAW POL 202 5-03-11  ",
         "55.14",
         "NaN"
        ],
        [
         "566",
         "2025-03-02 00:00:00",
         " Allegro  Poznan 60166 POL ",
         "21.59",
         "NaN"
        ],
        [
         "344",
         "2025-03-22 00:00:00",
         " UBR* PENDING.UBER.COM  Amsterdam  N ",
         "13.76",
         "NaN"
        ],
        [
         "232",
         "2025-04-06 00:00:00",
         " Sopot SPP 022  Sopot POL 2025-04-04   ",
         "10.0",
         "NaN"
        ],
        [
         "648",
         "2025-02-22 00:00:00",
         " SODEL ALBERT ŁUKASZ SADOWA 28 55-002 DOBRZYKOWICE ",
         "-200.0",
         "NaN"
        ],
        [
         "61",
         "2025-04-27 00:00:00",
         " LOKALNA PALARNIA  Wroclaw  POL ",
         "40.5",
         "NaN"
        ],
        [
         "261",
         "2025-04-03 00:00:00",
         " CENTRUM WINA DISTILLERS L  WROCLAW ",
         "218.38",
         "NaN"
        ],
        [
         "513",
         "2025-03-08 00:00:00",
         " 0474 - COOP VE CAMPO SANT  VENEZIA ",
         "23.62",
         "NaN"
        ],
        [
         "889",
         "2025-01-18 00:00:00",
         " SODEL WERONIKA SADOWA 28 55-002 DOBRZYKOWICE ",
         "-6.0",
         "NaN"
        ],
        [
         "508",
         "2025-03-08 00:00:00",
         " VE.LA. SPA TVM F.NOVE  VENEZIA  ITA ",
         "79.58",
         "NaN"
        ]
       ],
       "shape": {
        "columns": 4,
        "rows": 10
       }
      },
      "text/html": [
       "<div>\n",
       "<style scoped>\n",
       "    .dataframe tbody tr th:only-of-type {\n",
       "        vertical-align: middle;\n",
       "    }\n",
       "\n",
       "    .dataframe tbody tr th {\n",
       "        vertical-align: top;\n",
       "    }\n",
       "\n",
       "    .dataframe thead th {\n",
       "        text-align: right;\n",
       "    }\n",
       "</style>\n",
       "<table border=\"1\" class=\"dataframe\">\n",
       "  <thead>\n",
       "    <tr style=\"text-align: right;\">\n",
       "      <th></th>\n",
       "      <th>Data transakcji</th>\n",
       "      <th>Dane kontrahenta</th>\n",
       "      <th>Kwota transakcji</th>\n",
       "      <th>Kategoria</th>\n",
       "    </tr>\n",
       "  </thead>\n",
       "  <tbody>\n",
       "    <tr>\n",
       "      <th>434</th>\n",
       "      <td>2025-03-13</td>\n",
       "      <td>LIDL STRACHOCINSKA  WROCLAW POL 202 5-03-11</td>\n",
       "      <td>55.14</td>\n",
       "      <td>NaN</td>\n",
       "    </tr>\n",
       "    <tr>\n",
       "      <th>566</th>\n",
       "      <td>2025-03-02</td>\n",
       "      <td>Allegro  Poznan 60166 POL</td>\n",
       "      <td>21.59</td>\n",
       "      <td>NaN</td>\n",
       "    </tr>\n",
       "    <tr>\n",
       "      <th>344</th>\n",
       "      <td>2025-03-22</td>\n",
       "      <td>UBR* PENDING.UBER.COM  Amsterdam  N</td>\n",
       "      <td>13.76</td>\n",
       "      <td>NaN</td>\n",
       "    </tr>\n",
       "    <tr>\n",
       "      <th>232</th>\n",
       "      <td>2025-04-06</td>\n",
       "      <td>Sopot SPP 022  Sopot POL 2025-04-04</td>\n",
       "      <td>10.00</td>\n",
       "      <td>NaN</td>\n",
       "    </tr>\n",
       "    <tr>\n",
       "      <th>648</th>\n",
       "      <td>2025-02-22</td>\n",
       "      <td>SODEL ALBERT ŁUKASZ SADOWA 28 55-002 DOBRZYKOWICE</td>\n",
       "      <td>-200.00</td>\n",
       "      <td>NaN</td>\n",
       "    </tr>\n",
       "    <tr>\n",
       "      <th>61</th>\n",
       "      <td>2025-04-27</td>\n",
       "      <td>LOKALNA PALARNIA  Wroclaw  POL</td>\n",
       "      <td>40.50</td>\n",
       "      <td>NaN</td>\n",
       "    </tr>\n",
       "    <tr>\n",
       "      <th>261</th>\n",
       "      <td>2025-04-03</td>\n",
       "      <td>CENTRUM WINA DISTILLERS L  WROCLAW</td>\n",
       "      <td>218.38</td>\n",
       "      <td>NaN</td>\n",
       "    </tr>\n",
       "    <tr>\n",
       "      <th>513</th>\n",
       "      <td>2025-03-08</td>\n",
       "      <td>0474 - COOP VE CAMPO SANT  VENEZIA</td>\n",
       "      <td>23.62</td>\n",
       "      <td>NaN</td>\n",
       "    </tr>\n",
       "    <tr>\n",
       "      <th>889</th>\n",
       "      <td>2025-01-18</td>\n",
       "      <td>SODEL WERONIKA SADOWA 28 55-002 DOBRZYKOWICE</td>\n",
       "      <td>-6.00</td>\n",
       "      <td>NaN</td>\n",
       "    </tr>\n",
       "    <tr>\n",
       "      <th>508</th>\n",
       "      <td>2025-03-08</td>\n",
       "      <td>VE.LA. SPA TVM F.NOVE  VENEZIA  ITA</td>\n",
       "      <td>79.58</td>\n",
       "      <td>NaN</td>\n",
       "    </tr>\n",
       "  </tbody>\n",
       "</table>\n",
       "</div>"
      ],
      "text/plain": [
       "    Data transakcji                                     Dane kontrahenta  \\\n",
       "434      2025-03-13        LIDL STRACHOCINSKA  WROCLAW POL 202 5-03-11     \n",
       "566      2025-03-02                           Allegro  Poznan 60166 POL    \n",
       "344      2025-03-22                 UBR* PENDING.UBER.COM  Amsterdam  N    \n",
       "232      2025-04-06               Sopot SPP 022  Sopot POL 2025-04-04      \n",
       "648      2025-02-22   SODEL ALBERT ŁUKASZ SADOWA 28 55-002 DOBRZYKOWICE    \n",
       "61       2025-04-27                      LOKALNA PALARNIA  Wroclaw  POL    \n",
       "261      2025-04-03                  CENTRUM WINA DISTILLERS L  WROCLAW    \n",
       "513      2025-03-08                  0474 - COOP VE CAMPO SANT  VENEZIA    \n",
       "889      2025-01-18        SODEL WERONIKA SADOWA 28 55-002 DOBRZYKOWICE    \n",
       "508      2025-03-08                 VE.LA. SPA TVM F.NOVE  VENEZIA  ITA    \n",
       "\n",
       "     Kwota transakcji Kategoria  \n",
       "434             55.14       NaN  \n",
       "566             21.59       NaN  \n",
       "344             13.76       NaN  \n",
       "232             10.00       NaN  \n",
       "648           -200.00       NaN  \n",
       "61              40.50       NaN  \n",
       "261            218.38       NaN  \n",
       "513             23.62       NaN  \n",
       "889             -6.00       NaN  \n",
       "508             79.58       NaN  "
      ]
     },
     "execution_count": 8,
     "metadata": {},
     "output_type": "execute_result"
    }
   ],
   "source": [
    "df.sample(10)"
   ]
  },
  {
   "cell_type": "markdown",
   "metadata": {},
   "source": [
    "## 1.3 Categorize ING Bank Statment Data\n"
   ]
  },
  {
   "cell_type": "code",
   "execution_count": null,
   "metadata": {},
   "outputs": [],
   "source": [
    "# Keywords for each category\n",
    "category_keywords = {\n",
    "    \"Zakupy spożywcze\": [\"biedronka\", \"lidl\", \"kaufland\", \"carrefour\", \"netto\", \"zabka\", \"freshmarket\",\n",
    "                          \"stokrotka\", \"auchan\", \"selgros\", \"tesco\", \"intermarche\", \"leclerc\", \"freshmarket\", \"piekar\"],\n",
    "    # \"Paliwo\": [\"orlen\", \"bp\", \"shell\"],\n",
    "    # \"Restauracje\": [\"mcdonald\", \"kfc\", \"pizza\"],\n",
    "}\n",
    "\n",
    "# Lowercase \"Dane kontrahenta\" for case-insensitive matching\n",
    "df[\"Dane_lower\"] = df[\"Dane kontrahenta\"].str.lower()\n",
    "\n",
    "\n",
    "# Function to match category based on keywords in \"Dane kontrahenta\"\n",
    "def find_category(dane):\n",
    "    for category, keywords in category_keywords.items():\n",
    "        if any(keyword in dane for keyword in keywords):\n",
    "            return category\n",
    "    return \"Inne\"  # default if no match\n",
    "\n",
    "# Apply the categorization function for each row in the DataFrame and create a new column \"Kategoria\"\n",
    "df[\"Kategoria\"] = df[\"Dane_lower\"].apply(find_category)\n",
    "\n",
    "# Drop helper column - currently not needed\n",
    "df.drop(columns=[\"Dane_lower\"], inplace=True)\n",
    "\n",
    "\n",
    "# DEBUG: Save the dataframe as an Excel file\n",
    "# df.to_csv(\"test.csv\", sep=\";\", index=False, encoding=ING_ENCODING)\n",
    "\n",
    "df_categorized =  df[df[\"Kategoria\"] == \"Zakupy spożywcze\"]\n"
   ]
  },
  {
   "cell_type": "markdown",
   "metadata": {},
   "source": [
    "## 1.4 Data Visualisation\n"
   ]
  },
  {
   "cell_type": "code",
   "execution_count": 10,
   "metadata": {},
   "outputs": [
    {
     "data": {
      "image/png": "[encoded data removed]",
      "text/plain": [
       "<Figure size 1000x600 with 1 Axes>"
      ]
     },
     "metadata": {},
     "output_type": "display_data"
    }
   ],
   "source": [
    "import matplotlib.pyplot as plt\n",
    "\n",
    "# Group by month and sum the transaction amounts for \"Zakupy spożywcze\"\n",
    "df_categorized = df_categorized.copy()\n",
    "df_categorized[\"Month\"] = df_categorized[\"Data transakcji\"].dt.to_period(\"M\")\n",
    "monthly_summary_grocery = df_categorized.groupby(\"Month\")[\"Kwota transakcji\"].sum()\n",
    "\n",
    "# Calculate the average value\n",
    "average_value = monthly_summary_grocery.mean()\n",
    "\n",
    "# Plot the monthly summary\n",
    "ax = monthly_summary_grocery.plot(kind=\"bar\", figsize=(10, 6), color=\"skyblue\", label=\"Monthly Total\")\n",
    "plt.axhline(y=average_value, color=\"red\", linestyle=\"--\", label=f\"Average ({average_value:.2f})\")\n",
    "plt.title(\"Zakupy spożywcze - Monthly Summary\")\n",
    "plt.xlabel(\"Month\")\n",
    "plt.ylabel(\"Total Amount (PLN)\")\n",
    "plt.xticks(rotation=45)\n",
    "plt.grid(axis=\"y\", linestyle=\"--\", alpha=0.7)\n",
    "\n",
    "# Add data labels at the end of each bar\n",
    "for i, value in enumerate(monthly_summary_grocery):\n",
    "    ax.text(i, value + 50, f\"{value:.2f}\", ha=\"center\", va=\"bottom\", fontsize=9)\n",
    "\n",
    "plt.legend()\n",
    "plt.tight_layout()\n",
    "plt.show()\n"
   ]
  }
 ],
 "metadata": {
  "kernelspec": {
   "display_name": ".venv",
   "language": "python",
   "name": "python3"
  },
  "language_info": {
   "codemirror_mode": {
    "name": "ipython",
    "version": 3
   },
   "file_extension": ".py",
   "mimetype": "text/x-python",
   "name": "python",
   "nbconvert_exporter": "python",
   "pygments_lexer": "ipython3",
   "version": "3.13.3"
  }
 },
 "nbformat": 4,
 "nbformat_minor": 4
}
